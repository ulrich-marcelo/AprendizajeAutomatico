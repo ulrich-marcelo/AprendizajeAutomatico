{
 "cells": [
  {
   "cell_type": "markdown",
   "metadata": {
    "slideshow": {
     "slide_type": "slide"
    }
   },
   "source": [
    "# Aprendizaje Automático\n",
    "#### Segundo cuatrimestre 2025\n",
    "\n",
    "## Regresión Lineal\n",
    "\n",
    "#### Bibliografía: \n",
    "* Pattern Recognition and Machine Learning, Christopher M. Bishop. Capíulo 3.\n",
    "* The Elements of Statistical Learning, Trevor Hastie, Robert Tibshirani, Jerome Friedman. Capítulo 3.\n",
    "\n",
    "Papers:\n",
    "* Ridge Regression: Biased Estimation for Nonorthogonal Problems, Arthur E. Hoerl and Robert W. Kennard, 1970.\n",
    "* Regression Shrinkage and Selection via the Lasso, Robert Tibshirani, 1996.\n",
    "* Regularization and variable selection via the elastic net, Hui Zou and Trevor Hastie, 2005."
   ]
  },
  {
   "cell_type": "markdown",
   "metadata": {
    "slideshow": {
     "slide_type": "slide"
    }
   },
   "source": [
    "### Regresión Lineal: formulación\n",
    "\n",
    "La regresión lineal es un modelo que asume que la relación entre las variables de entrada $X^T = (X_1, X_2,..., X_p)$ y la variable de salida $Y$ es lineal. Entonces, toma la forma:\n",
    "\n",
    "$$ f(X) = \\beta_0 + \\sum_{j=1}^{p} X_j \\beta_j$$\n",
    "\n",
    "En general, se suele escribir de forma más compacta como\n",
    "\n",
    "$$ f(X) = X^T \\beta$$\n",
    "\n",
    "donde $X$ es un vector de tamaño $p+1$ que contiene un 1 en la primera posición y los valores de las variables de entrada en las siguientes posiciones. $\\beta = (\\beta_0, \\beta_1, ..., \\beta_p)$ es el vector de coeficientes a estimar."
   ]
  },
  {
   "cell_type": "markdown",
   "metadata": {
    "slideshow": {
     "slide_type": "subslide"
    }
   },
   "source": [
    "**¿Qué estamos asumiendo con esta $f(X)$?**\n",
    "\n",
    "Estamos asumiendo que la función de regresión $E(Y|X)$ es lineal o que **el modelo lineal es una buena aproximación**."
   ]
  },
  {
   "cell_type": "markdown",
   "metadata": {
    "slideshow": {
     "slide_type": "fragment"
    }
   },
   "source": [
    "**¿Qué son los $X$ ?**\n",
    "\n",
    "Prácticamente cualquier cosa que se nos ocurra:\n",
    "* Variables continuas.\n",
    "* Expansiones polinómicas de variables continuas u otros tipos de transformaciones.\n",
    "* Variables categóricas apropiadamente codificadas.\n",
    "* Interacciones entre variables.\n",
    "\n",
    "Lo importante es que el modelo es lineal en los parámetros, no necesariamente en las variables.\n"
   ]
  },
  {
   "cell_type": "markdown",
   "metadata": {
    "slideshow": {
     "slide_type": "slide"
    }
   },
   "source": [
    "### Entrenamiento\n",
    "\n",
    "Dado un conjunto de entrenamiento $\\{(x_1, y_1), (x_2, y_2), ..., (x_N, y_N)\\}$, el objetivo es encontrar los coeficientes $\\beta$ que mejor ajusten a esos datos. Tener en cuenta que cada $x_i = (x_{i1}, x_{i2}, ..., x_{ip})$ es el vector de atributos para la observación $i$ (a veces con un 1 en la primera posición).\n",
    "\n",
    "*mejor ajusten a los datos* ---> En general significa minimizar una función de costo. En este caso, la función de costo más común es la suma de los residuos al cuadrado (RSS):\n",
    "\n",
    "$$RSS = \\sum_{i=1}^{N} (y_i - f(x_i))^2$$\n",
    "\n",
    "y el método más común para encontrar los coeficientes es el de **cuadrados mínimos**, que consiste en minimizar RSS respecto de $\\beta$."
   ]
  },
  {
   "cell_type": "markdown",
   "metadata": {
    "slideshow": {
     "slide_type": "slide"
    }
   },
   "source": [
    "### Entrenamiento - Cuadrados mínimos\n",
    "\n",
    "Utilizando notación matricial, podemos reescribir la suma de los residuos al cuadrado como:\n",
    "\n",
    "$$ RSS (\\beta) = ||\\textbf{y} - \\textbf{X} \\beta||^2 = (\\textbf{y} - \\textbf{X} \\beta)^T (\\textbf{y} - \\textbf{X} \\beta) $$\n",
    "\n",
    "donde es explícita la dependencia de la función de costo respecto de los parámetros $\\beta$.\n",
    "\n",
    "Si diferenciamos respecto de $\\beta$, obtenemos la primera derivada:\n",
    "\n",
    "$$\\frac{\\partial RSS}{\\partial \\beta} = -2 \\textbf{X}^T (\\textbf{y} - \\textbf{X} \\beta)$$\n",
    "\n",
    "y, diferenciando nuevamente, la segunda derivada:\n",
    "\n",
    "$$\\frac{\\partial^2 RSS}{\\partial \\beta^2}^* = 2 \\textbf{X}^T \\textbf{X}$$\n",
    "\n",
    "*(dejamos de lado un $\\beta^T$ para simplificar la notación)."
   ]
  },
  {
   "cell_type": "markdown",
   "metadata": {
    "slideshow": {
     "slide_type": "slide"
    }
   },
   "source": [
    "### Entrenamiento - Cuadrados mínimos\n",
    "\n",
    "Si, además, $\\textbf{X}$ tiene rango completo, entonces $\\textbf{X}^T \\textbf{X}$ es definida positiva, lo que implica que la función de costo es convexa y tiene un mínimo que podemos obtener igualando la segunda derivada a cero (ecuación normal):\n",
    "\n",
    "$$\\textbf{X}^T (\\textbf{y} - \\textbf{X} \\beta) = 0  $$\n",
    "\n",
    "cuya solución es:\n",
    "\n",
    "$$\\hat{\\beta} = (\\textbf{X}^T \\textbf{X})^{-1} \\textbf{X}^T \\textbf{y}$$\n",
    "\n",
    "De esta forma, las predicciones $\\hat{\\textbf{y}}$ se obtienen como:\n",
    "\n",
    "$$\\hat{\\textbf{y}} = \\textbf{X} \\hat{\\beta} = \\textbf{X} (\\textbf{X}^T \\textbf{X})^{-1} \\textbf{X}^T \\textbf{y}$$\n",
    "\n",
    "Desde un punto de vista operativo, ya está. Obtuvimos un estimador de los coeficientes $\\hat{\\beta}$ que nos sirve para hacer predicciones. No hay, prácticamente, ninguna hipótesis sobre los datos, más allá de que $\\textbf{X}$ tiene rango completo.\n"
   ]
  },
  {
   "cell_type": "markdown",
   "metadata": {
    "slideshow": {
     "slide_type": "subslide"
    }
   },
   "source": [
    "### Derivando matrices\n",
    "\n",
    "$$ (\\textbf{y} - \\textbf{X} \\beta)^T (\\textbf{y} - \\textbf{X} \\beta) = (\\textbf{y}^T - \\beta^T \\textbf{X}^T)(\\textbf{y} - \\textbf{X} \\beta)$$\n",
    "\n",
    "$$ (\\textbf{y}^T - \\beta^T \\textbf{X}^T)(\\textbf{y} - \\textbf{X} \\beta) = \\textbf{y}^T \\textbf{y} - \\textbf{y}^T \\textbf{X} \\beta - \\beta^T \\textbf{X}^T \\textbf{y} + \\beta^T \\textbf{X}^T \\textbf{X} \\beta$$\n",
    "\n",
    "Considerar que tanto $\\textbf{y}^T \\textbf{X} \\beta$ como $\\beta^T \\textbf{X}^T \\textbf{y}$ son escalares, por lo que se cumple que $\\textbf{y}^T \\textbf{X} \\beta = (\\textbf{y}^T \\textbf{X} \\beta)^T = \\beta^T \\textbf{X}^T \\textbf{y}$. Entonces, \n",
    "\n",
    "$$ (\\textbf{y} - \\textbf{X} \\beta)^T (\\textbf{y} - \\textbf{X} \\beta) = \\textbf{y}^T \\textbf{y} - 2 \\textbf{y}^T \\textbf{X} \\beta + \\beta^T \\textbf{X}^T \\textbf{X} \\beta.$$\n",
    "\n",
    "\n",
    "Como la derivada tiene tantos componentes como $\\beta$, que es **vector columna**, debemos obtener un vector columna. Tener en cuenta la siguiente propiedad $\\frac{\\partial}{\\partial \\beta} (a^T \\beta) = a$ si $a$ no depende de $\\beta$.\n",
    "\n",
    "Entonces, si diferenciamos respecto de $\\beta$, obtenemos:\n",
    "\n",
    "$$ \\frac{\\partial}{\\partial \\beta} (\\textbf{y}^T \\textbf{y}) = 0$$\n",
    "$$ \\frac{\\partial}{\\partial \\beta} (-2 \\textbf{y}^T \\textbf{X} \\beta) = -2 \\textbf{X}^T \\textbf{y}$$\n",
    "$$ \\frac{\\partial}{\\partial \\beta} (\\beta^T \\textbf{X}^T \\textbf{X} \\beta) = 2 \\textbf{X}^T \\textbf{X} \\beta$$\n",
    "\n"
   ]
  },
  {
   "cell_type": "markdown",
   "metadata": {
    "slideshow": {
     "slide_type": "slide"
    }
   },
   "source": [
    "### Geometría de los resultados\n",
    "<img src=\"Figuras/Geometría cuadrados mínimos.png\" alt=\"Figura 1\" width=\"400\" />"
   ]
  },
  {
   "cell_type": "markdown",
   "metadata": {
    "slideshow": {
     "slide_type": "slide"
    }
   },
   "source": [
    "### Geometría de los resultados\n",
    "\n",
    "* Los vectores columnas de $\\textbf{X}$ generan un subespacio en $\\mathbb{R}^N$. *Pregunta: ¿cuál es su dimensión?*\n",
    "* De $\\textbf{X}^T (\\textbf{y} - \\textbf{X} \\beta) = 0 $ se deduce que el vector $\\textbf{y} - \\hat{\\textbf{y}}$ es ortogonal a este subespacio.\n",
    "    * Por lo tanto, la solución $\\hat{\\beta}$ es el vector que minimiza la distancia entre $\\textbf{y}$ y el espacio generado por los vectores columnas de $\\textbf{X}$.\n",
    "\n",
    "Entonces, $\\hat{\\textbf{y}}$ es la proyección ortogonal de $\\textbf{y}$ en ese subespacio. La matriz encargada de hacer esa proyección es $\\textbf{H}$, conocida como **matriz de proyección** o **matriz hat**.\n",
    "\n",
    "$$ \\hat{\\textbf{y}} = \\textbf{X} \\hat{\\beta} = \\textbf{X} (\\textbf{X}^T \\textbf{X})^{-1} \\textbf{X}^T \\textbf{y}$$\n",
    "\n",
    "¿Cuándo hay problemas? Si las columnas de $\\textbf{X}$ no son linealmente independientes -  no tiene rango completo - $\\textbf{X}^T \\textbf{X}$ no es invertible, por lo que puede haber más de un $\\hat{\\beta}$. Sin embargo, se sigue cumpliendo que $\\hat{\\textbf{y}}$ siguen siendo la proyección de $\\textbf{y}$ en ese subespacio, solamente que hay más de una forma de expresarlo."
   ]
  },
  {
   "cell_type": "markdown",
   "metadata": {
    "slideshow": {
     "slide_type": "slide"
    }
   },
   "source": [
    "### Un poco de estadística\n",
    "\n",
    "$$\\hat{\\beta} = (\\textbf{X}^T \\textbf{X})^{-1} \\textbf{X}^T \\textbf{y}$$\n",
    "\n",
    "En general, dado un estimador, se suele estudiar su esperanza, varianza y distribución:\n",
    "\n",
    "* La esperanza sirve para ver si el estimador es sesgado o no. Un estimador $\\hat{\\beta}$ es insesgado si $E(\\hat{\\beta}) = \\beta$.\n",
    "* La varianza mide la dispersión del estimador alrededor de su valor esperado. Si la varianza es baja, el estimador es más confiable.\n",
    "* La distribución nos dice cómo se comporta el estimador en diferentes muestras. Sirve, por ejemplo, para construir intervalos de confianza.\n",
    "\n",
    "Para calcular cada uno de estos valores, es necesario hacer algunas suposiciones sobre el modelo (generalmente, de manera incremental). "
   ]
  },
  {
   "cell_type": "markdown",
   "metadata": {
    "slideshow": {
     "slide_type": "slide"
    }
   },
   "source": [
    "### Un poco de estadística\n",
    "\n",
    "Para calcular cada uno de estos valores, es necesario hacer algunas suposiciones sobre el modelo (generalmente, de manera incremental). \n",
    "\n",
    "Asumimos que:\n",
    "\n",
    "1. El modelo lineal es correcto:\n",
    "     $$Y = E(Y|X_1, ..., X_p) + \\epsilon$$\n",
    "     $$Y = \\beta_0 + \\sum_{j=1}^{p} X_j \\beta_j + \\epsilon$$\n",
    "1. Las observaciones $y_i$ son independientes entre sí, con varianza constante $\\sigma^2$.\n",
    "1. Los $x_i$ son fijos y no aleatorios.\n",
    "1. Los errores siguen una distribución normal: $\\epsilon \\sim N(0, \\sigma^2)$.\n",
    "\n",
    "* En algunas circunstancias, será conveniente escribir que $Var(\\epsilon) = \\sigma^2 I$, donde $I$ es la matriz identidad.\n",
    "* Se pueden relajar algunos supuestos para obtener resultados similares, pero no es el objetivo de esta materia."
   ]
  },
  {
   "cell_type": "markdown",
   "metadata": {
    "slideshow": {
     "slide_type": "slide"
    }
   },
   "source": [
    "### Un poco de estadística\n",
    "\n",
    "Entonces,\n",
    "\n",
    "$$\\hat{\\beta} = (\\textbf{X}^T \\textbf{X})^{-1} \\textbf{X}^T \\textbf{y}$$\n",
    "\n",
    "$$\\hat{\\beta} = (\\textbf{X}^T \\textbf{X})^{-1} \\textbf{X}^T (\\textbf{X} \\beta + \\epsilon)$$\n",
    "\n",
    "$$\\hat{\\beta} = (\\textbf{X}^T \\textbf{X})^{-1} \\textbf{X}^T \\textbf{X} \\beta + (\\textbf{X}^T \\textbf{X})^{-1} \\textbf{X}^T \\epsilon$$\n",
    "\n",
    "$$\\hat{\\beta} = \\beta + (\\textbf{X}^T \\textbf{X})^{-1} \\textbf{X}^T \\epsilon$$\n",
    "\n",
    "**Esperanza**\n",
    "$$E(\\hat{\\beta}) = E(\\beta + (\\textbf{X}^T \\textbf{X})^{-1} \\textbf{X}^T \\epsilon)$$\n",
    "\n",
    "$$E(\\hat{\\beta}) = \\beta + E((\\textbf{X}^T \\textbf{X})^{-1} \\textbf{X}^T \\epsilon)$$\n",
    "\n",
    "Como $E(\\epsilon) = 0$, entonces $E((\\textbf{X}^T \\textbf{X})^{-1} \\textbf{X}^T \\epsilon) = 0$ y, por lo tanto, $E(\\hat{\\beta}) = \\beta$. Esto implica que el estimador es insesgado."
   ]
  },
  {
   "cell_type": "markdown",
   "metadata": {
    "slideshow": {
     "slide_type": "slide"
    }
   },
   "source": [
    "### Un poco de estadística\n",
    "\n",
    "$$\\hat{\\beta} = \\beta + (\\textbf{X}^T \\textbf{X})^{-1} \\textbf{X}^T \\epsilon$$\n",
    "\n",
    "**Varianza**\n",
    "\n",
    "$$Var(\\hat{\\beta}) = Var(\\beta + (\\textbf{X}^T \\textbf{X})^{-1} \\textbf{X}^T \\epsilon)$$\n",
    "$$Var(\\hat{\\beta}) = Var((\\textbf{X}^T \\textbf{X})^{-1} \\textbf{X}^T \\epsilon)$$\n",
    "\n",
    "**Propiedad:** Si $\\textbf{A}$ es una matriz constante y $\\textbf{b}$ un vector aleatorio, entonces $Var(\\textbf{A} \\textbf{b}) = \\textbf{A} Var(\\textbf{b}) \\textbf{A}^T$ (análogo a la versión escalar $Var(a b) = a^2 Var(b)$).\n",
    "\n",
    "Aplicado acá:\n",
    "\n",
    "$$Var(\\hat{\\beta}) = (\\textbf{X}^T \\textbf{X})^{-1} \\textbf{X}^T Var(\\epsilon) \\textbf{X} (\\textbf{X}^T \\textbf{X})^{-1}$$\n",
    "\n",
    "Como $Var(\\epsilon) = \\sigma^2 I$, entonces:\n",
    "\n",
    "$$Var(\\hat{\\beta}) = \\sigma^2 (\\textbf{X}^T \\textbf{X})^{-1}$$\n",
    "\n",
    "¿Cómo estimamos $\\sigma^2$? \n",
    "\n",
    "$$\\hat{\\sigma}^2 = \\frac{1}{N - p - 1} \\sum_{i=1}^{N} (y_i - \\hat{y}_i)^2 $$\n"
   ]
  },
  {
   "cell_type": "markdown",
   "metadata": {
    "slideshow": {
     "slide_type": "slide"
    }
   },
   "source": [
    "### Un poco de estadística\n",
    "\n",
    "#### Distribución\n",
    "\n",
    "Como los errores son normales, $\\epsilon \\sim N(0, \\sigma^2 I)$, entonces $$\\hat{\\beta} \\sim N(\\beta, (\\textbf{X}^T \\textbf{X})^{-1} \\sigma^2) $$\n",
    "\n",
    "**¿Por qué?**\n",
    "\n",
    "El estimador $\\hat{\\beta} = \\beta + (\\textbf{X}^T \\textbf{X})^{-1} \\textbf{X}^T \\epsilon$ es una combinación lineal de variables aleatorias normales, por lo que también es normal. La esperanza y la varianza se obtienen directamente de la expresión anterior.\n",
    "\n",
    "**Propiedad:**\n",
    "Si $\\textbf{b}$ un vector aleatorio con distribución normal $N(\\mu, \\Sigma)$ y $\\textbf{A}$ una matriz constante, entonces $\\textbf{A} \\textbf{b} \\sim N(\\textbf{A} \\mu, \\textbf{A} \\Sigma \\textbf{A}^T)$.\n",
    "\n",
    "En este caso, $\\textbf{A} = (\\textbf{X}^T \\textbf{X})^{-1} \\textbf{X}^T$."
   ]
  },
  {
   "cell_type": "markdown",
   "metadata": {
    "slideshow": {
     "slide_type": "slide"
    }
   },
   "source": [
    "### Un poco de estadística\n",
    "\n",
    "**Otros resultados relevantes:**\n",
    "1. El estimador de la variación de los errores $\\hat{\\sigma}^2$ sigue una distribución $\\chi^2$ con $N - p - 1$ grados de libertad.\n",
    "    $$ \\hat{\\sigma}^2 \\sim \\frac{\\sigma^2}{N - p - 1} \\chi^2_{N - p - 1}$$\n",
    "\n",
    "1. Para evaluar si un coeficiente $\\beta_j$ es significativo, se utiliza el *Z-score*:\n",
    "$$Z_j = \\frac{\\hat{\\beta}_j}{\\hat{\\sigma} \\sqrt{(\\textbf{X}^T \\textbf{X})^{-1}_{jj}}}$$\n",
    "Bajo la hipótesis nula, $Z_j$ sigue una distribución $t$ con $N - p - 1$ grados de libertad, que para grandes muestras se aproxima a una normal."
   ]
  },
  {
   "cell_type": "markdown",
   "metadata": {
    "slideshow": {
     "slide_type": "slide"
    }
   },
   "source": [
    "### Un poco de estadística\n",
    "\n",
    "**Otros resultados relevantes:**\n",
    "\n",
    "3. Estadístico $F$. Supongamos que queremos comparar un modelo con $p_1 + 1$ parámetros con otro modelo con $p_0 + 1$ parámetros ($p_0 < p_1$). Entonces, el estadístico $F$ se define como:\n",
    "$$F = \\frac{(RSS_0 - RSS_1) / (p_1 - p_0)}{RSS_1 / (N - p_1 - 1)}$$\n",
    "donde $RSS_0$ y $RSS_1$ son los residuos de los modelos con $p_0 + 1$ y $p_1 + 1$ parámetros, respectivamente. $F$ mide el cambio en la suma de residuos al cuadrado ($RSS_0 - RSS_1$) por cada parámetro adicional en el modelo ($p_1 - p_0$), normalizado por una estimación de la varianza ($RSS_1 / (N - p_1 - 1)$).\n",
    "\n",
    "Bajo la hipótesis nula de que el modelo más chico es correcto, $F$ sigue una distribución $F_{p_1 - p_0, N - p_1 - 1}$.\n"
   ]
  },
  {
   "cell_type": "markdown",
   "metadata": {
    "slideshow": {
     "slide_type": "slide"
    }
   },
   "source": [
    "### Descenso por gradiente\n",
    "\n",
    "En conjuntos de datos muy grandes, el cálculo de la matriz $\\textbf{X}^T \\textbf{X}$ puede ser muy costoso. En estos casos, se puede utilizar un algoritmo de optimización como el descenso por gradiente para encontrar los coeficientes $\\beta$.\n",
    "\n",
    "**Descenso por gradiente estocástico**\n",
    "\n",
    "1. Inicializar $\\beta$ con valores aleatorios.\n",
    "1. En cada iteración $\\tau$:\n",
    "   1. Seleccionar una instancia aleatoria $i$ del conjunto de entrenamiento.\n",
    "   1. Calcular el error: $e_i = y_i - \\hat{y}_i = y_i - x_i^T \\beta$\n",
    "   1. Actualizar $\\beta^{(\\tau + 1)} = \\beta^{(\\tau)} + \\eta e_i x_i$\n",
    "\n",
    "\n",
    "¿Por qué es un *gradiente*? Considerar que si el *costo* está dado por la suma de los residuos al cuadrado, $RSS = \\sum_{i=1}^{N} (y_i - \\hat{y}_i)^2 = \\sum_{i=1}^{N} (y_i - x_i^T \\beta)^2$, entonces la derivada respecto de $\\beta$ es $\\frac{\\partial RSS}{\\partial \\beta} = -2 \\sum_{i=1}^{N} (y_i - x_i^T \\beta) x_i$. Entonces, el gradiente es $-\\frac{1}{N} \\frac{\\partial RSS}{\\partial \\beta}$ y la actualización de $\\beta$ es $\\beta = \\beta - \\eta \\frac{1}{N} \\frac{\\partial RSS}{\\partial \\beta}$, donde $\\eta$ es la tasa de aprendizaje.\n",
    "\n",
    "Pero N puede ser muy grande, por lo que se puede usar un solo ejemplo para actualizar $\\beta$ en cada iteración. Entonces, el algoritmo se convierte en el descenso por gradiente estocástico."
   ]
  },
  {
   "cell_type": "markdown",
   "metadata": {},
   "source": [
    "Si sobrevivieron hasta acá, tratemos de bajar a tierra un poco todo esto."
   ]
  },
  {
   "cell_type": "markdown",
   "metadata": {
    "slideshow": {
     "slide_type": "slide"
    }
   },
   "source": [
    "### Ejercicios\n",
    "\n",
    "**Ejercicio:** Dado un conjunto de valores $x_1, x_2, ..., x_N$\n",
    "1. ¿Qué valor $x$ minimiza el error cuadrático ($\\sum_{i=1}^{N} (x_i - x)^2$)?\n",
    "1. ¿Y si el error es absoluto ($\\sum_{i=1}^{N} |x_i - x|$)?\n",
    "\n",
    "**Ejercicio:** Considerar el caso para una única variable predictora $X_1$:\n",
    "1. Escribir la función de costo $RSS(\\beta)$ sin usar la notación matricial. ¿Cuántas componentes tiene $\\beta$?\n",
    "1. Expandir la expresión y mostrar que es una función cuadrática en $\\beta$.\n",
    "1. Encontrar el mínimo de la función cuadrática y mostrar que se obtiene la solución de mínimos cuadrados:\n",
    "\n",
    "$$ \\hat{\\beta_1} = \\frac{\\sum_{i=1}^{N} (x_i - \\bar{x})(y_i - \\bar{y})}{\\sum_{i=1}^{N} (x_i - \\bar{x})^2}$$\n",
    "\n",
    "$$ \\hat{\\beta_0} = \\bar{y} - \\hat{\\beta_1} \\bar{x}$$\n",
    "\n",
    "1. ¿Cómo se modifican esas expresiones si consideramos predictores estandarizados?¿Y si la variable de respuesta también está estandarizada?\n",
    "4. Plantear la expresión para el caso de $p = 2$ variables predictoras. ¿Cuántas componentes tiene $\\beta$? ¿Cuántas ecuaciones hay que resolver para encontrar la solución de mínimos cuadrados? Reflexionar sobre la ventaja de usar la formulación matricial.\n",
    "\n",
    "**Ejercicio:** Utilizando el dataset de *Prostate Cancer*:\n",
    "1. Reproducir las Tabla 3.1 y 3.2 del libro Elements of Statistical Learning. Utilizar la librería `statsmodels` de Python para ajustar el modelo lineal. Comparar con los resultados obtenidos en el libro.\n",
    "1. Reproducir la Tabla 3.2 del libro Elements of Statistical Learning utilizando un estimador de cuadrados mínimos hecho exclusivamente con `numpy`. Comparar con los resultados obtenidos en el libro y con los obtenidos con `statsmodels`.\n",
    "1. Obtener el estadístico $F$ para el modelo completo y el modelo reducido sin las variables $age$, $lcp$, $gleason$ y $pgg45$. Comparar con el valor obtenido en el libro. Interpretar.\n",
    "1. Obtener el error en el conjunto de evaluación. Obtener el \"benchmark\" propuesto en el libro. Graficar las predicciones del modelo completo ($y$ vs $y_{pred}$) y del benchmark.\n",
    "\n",
    "**Ejercicio:** Utilizando el dataset de *Prostate Cancer*:\n",
    "1. Implementar un estimador de cuadrados mínimos con descenso por gradiente estocástico. Utilizar una tasa de aprendizaje $\\eta = 0.001$ y un número de iteraciones $iter = 10000$. Graficar la evolución de cada coeficiente $\\beta_j$ en función de las iteraciones y, en el mismo gráfico, comparar con los resultados obtenidos previamente o en el libro. **Algunas recomendaciones**: no olvidar escalar los predictores e iniciializar los coeficientes $\\beta$ a partir de una distribución normal con media cero y varianza uno.\n",
    "1. Probar diferentes tasas de aprendizaje y número de iteraciones. ¿Qué ocurre si la tasa de aprendizaje es muy baja? ¿Y si es muy alta? ¿Qué ocurre si el número de iteraciones es muy bajo? ¿Y si es muy alto?\n",
    "1. Probar diferentes inicializaciones de los coeficientes $\\beta_j$. ¿Qué ocurre si se inicializan todos en cero? ¿Y si se inicializan en valores aleatorios?\n",
    "1. Pensar e investigar cómo se podría mejorar este algoritmo. En particular, considerar condiciones de parada y técnicas por *batch*. No es necesario implementar ninguna de esas mejoras, pero sí pensar en cómo se podrían implementar y qué ventajas tendrían.\n",
    "\n",
    "**Ejercicio:** Ir a la documentación y al código de la [regresión lineal en Scikit-Learn](https://scikit-learn.org/stable/modules/generated/sklearn.linear_model.LinearRegression.html). Familiarizarse con ella. Leer el comentario acerca de la implementación en \"Notes\". Luego, ir al código y ver cómo está implementado el `.fit()`. ¿Qué diferencias hay con lo visto?\n",
    "\n",
    "**Ejercicio:** Ir a la documentación de la [regresión Ridge en Scikit-Learn](https://scikit-learn.org/stable/modules/generated/sklearn.linear_model.Ridge.html#sklearn.linear_model.Ridge). Leer acerca de los *solvers* disponibles y sus diferencias. ¿Cómo se relacional con lo visto? Volveremos sobre este ejercicio.\n"
   ]
  },
  {
   "cell_type": "markdown",
   "metadata": {},
   "source": [
    "# Ejercicio 3: Tablas"
   ]
  },
  {
   "cell_type": "code",
   "execution_count": 2,
   "metadata": {},
   "outputs": [],
   "source": [
    "import numpy as np\n",
    "import pandas as pd\n",
    "import matplotlib.pyplot as plt"
   ]
  },
  {
   "cell_type": "code",
   "execution_count": 26,
   "metadata": {},
   "outputs": [
    {
     "name": "stdout",
     "output_type": "stream",
     "text": [
      "Train size: 67, Test size: 30; p = 8\n"
     ]
    }
   ],
   "source": [
    "\n",
    "# Cargar datos\n",
    "path = \"prostate.data2.txt\"\n",
    "df = pd.read_table(path, sep='\\t')\n",
    "\n",
    "predictors = ['lcavol','lweight','age','lbph','svi','lcp','gleason','pgg45']\n",
    "target = 'lpsa'\n",
    "\n",
    "# Partición train / test según columna 'train'\n",
    "train_df = df[df['train']=='T'].copy()\n",
    "test_df  = df[df['train']=='F'].copy()\n",
    "\n",
    "X_train = train_df[predictors].to_numpy()\n",
    "y_train = train_df[target].to_numpy()\n",
    "X_test  = test_df[predictors].to_numpy()\n",
    "y_test  = test_df[target].to_numpy()\n",
    "\n",
    "n_train, p = X_train.shape\n",
    "\n",
    "print(f\"Train size: {n_train}, Test size: {len(test_df)}; p = {p}\")"
   ]
  },
  {
   "cell_type": "code",
   "execution_count": 27,
   "metadata": {},
   "outputs": [
    {
     "name": "stdout",
     "output_type": "stream",
     "text": [
      "\n",
      "TABLA 3.1 - Correlaciones entre predictores (set de entrenamiento):\n"
     ]
    },
    {
     "data": {
      "text/html": [
       "<div>\n",
       "<style scoped>\n",
       "    .dataframe tbody tr th:only-of-type {\n",
       "        vertical-align: middle;\n",
       "    }\n",
       "\n",
       "    .dataframe tbody tr th {\n",
       "        vertical-align: top;\n",
       "    }\n",
       "\n",
       "    .dataframe thead th {\n",
       "        text-align: right;\n",
       "    }\n",
       "</style>\n",
       "<table border=\"1\" class=\"dataframe\">\n",
       "  <thead>\n",
       "    <tr style=\"text-align: right;\">\n",
       "      <th></th>\n",
       "      <th>lcavol</th>\n",
       "      <th>lweight</th>\n",
       "      <th>age</th>\n",
       "      <th>lbph</th>\n",
       "      <th>svi</th>\n",
       "      <th>lcp</th>\n",
       "      <th>gleason</th>\n",
       "      <th>pgg45</th>\n",
       "    </tr>\n",
       "  </thead>\n",
       "  <tbody>\n",
       "    <tr>\n",
       "      <th>lcavol</th>\n",
       "      <td>1.000</td>\n",
       "      <td>0.300</td>\n",
       "      <td>0.286</td>\n",
       "      <td>0.063</td>\n",
       "      <td>0.593</td>\n",
       "      <td>0.692</td>\n",
       "      <td>0.426</td>\n",
       "      <td>0.483</td>\n",
       "    </tr>\n",
       "    <tr>\n",
       "      <th>lweight</th>\n",
       "      <td>0.300</td>\n",
       "      <td>1.000</td>\n",
       "      <td>0.317</td>\n",
       "      <td>0.437</td>\n",
       "      <td>0.181</td>\n",
       "      <td>0.157</td>\n",
       "      <td>0.024</td>\n",
       "      <td>0.074</td>\n",
       "    </tr>\n",
       "    <tr>\n",
       "      <th>age</th>\n",
       "      <td>0.286</td>\n",
       "      <td>0.317</td>\n",
       "      <td>1.000</td>\n",
       "      <td>0.287</td>\n",
       "      <td>0.129</td>\n",
       "      <td>0.173</td>\n",
       "      <td>0.366</td>\n",
       "      <td>0.276</td>\n",
       "    </tr>\n",
       "    <tr>\n",
       "      <th>lbph</th>\n",
       "      <td>0.063</td>\n",
       "      <td>0.437</td>\n",
       "      <td>0.287</td>\n",
       "      <td>1.000</td>\n",
       "      <td>-0.139</td>\n",
       "      <td>-0.089</td>\n",
       "      <td>0.033</td>\n",
       "      <td>-0.030</td>\n",
       "    </tr>\n",
       "    <tr>\n",
       "      <th>svi</th>\n",
       "      <td>0.593</td>\n",
       "      <td>0.181</td>\n",
       "      <td>0.129</td>\n",
       "      <td>-0.139</td>\n",
       "      <td>1.000</td>\n",
       "      <td>0.671</td>\n",
       "      <td>0.307</td>\n",
       "      <td>0.481</td>\n",
       "    </tr>\n",
       "    <tr>\n",
       "      <th>lcp</th>\n",
       "      <td>0.692</td>\n",
       "      <td>0.157</td>\n",
       "      <td>0.173</td>\n",
       "      <td>-0.089</td>\n",
       "      <td>0.671</td>\n",
       "      <td>1.000</td>\n",
       "      <td>0.476</td>\n",
       "      <td>0.663</td>\n",
       "    </tr>\n",
       "    <tr>\n",
       "      <th>gleason</th>\n",
       "      <td>0.426</td>\n",
       "      <td>0.024</td>\n",
       "      <td>0.366</td>\n",
       "      <td>0.033</td>\n",
       "      <td>0.307</td>\n",
       "      <td>0.476</td>\n",
       "      <td>1.000</td>\n",
       "      <td>0.757</td>\n",
       "    </tr>\n",
       "    <tr>\n",
       "      <th>pgg45</th>\n",
       "      <td>0.483</td>\n",
       "      <td>0.074</td>\n",
       "      <td>0.276</td>\n",
       "      <td>-0.030</td>\n",
       "      <td>0.481</td>\n",
       "      <td>0.663</td>\n",
       "      <td>0.757</td>\n",
       "      <td>1.000</td>\n",
       "    </tr>\n",
       "  </tbody>\n",
       "</table>\n",
       "</div>"
      ],
      "text/plain": [
       "         lcavol  lweight    age   lbph    svi    lcp  gleason  pgg45\n",
       "lcavol    1.000    0.300  0.286  0.063  0.593  0.692    0.426  0.483\n",
       "lweight   0.300    1.000  0.317  0.437  0.181  0.157    0.024  0.074\n",
       "age       0.286    0.317  1.000  0.287  0.129  0.173    0.366  0.276\n",
       "lbph      0.063    0.437  0.287  1.000 -0.139 -0.089    0.033 -0.030\n",
       "svi       0.593    0.181  0.129 -0.139  1.000  0.671    0.307  0.481\n",
       "lcp       0.692    0.157  0.173 -0.089  0.671  1.000    0.476  0.663\n",
       "gleason   0.426    0.024  0.366  0.033  0.307  0.476    1.000  0.757\n",
       "pgg45     0.483    0.074  0.276 -0.030  0.481  0.663    0.757  1.000"
      ]
     },
     "metadata": {},
     "output_type": "display_data"
    }
   ],
   "source": [
    "# 1) Tabla 3.1: Correlaciones entre predictores\n",
    "corr_pred = pd.DataFrame(X_train, columns=predictors).corr()\n",
    "print(\"\\nTABLA 3.1 - Correlaciones entre predictores (set de entrenamiento):\")\n",
    "display(np.round(corr_pred, 3))"
   ]
  },
  {
   "cell_type": "code",
   "execution_count": 28,
   "metadata": {},
   "outputs": [
    {
     "name": "stdout",
     "output_type": "stream",
     "text": [
      "\n",
      "TABLA 3.2 - OLS con statsmodels (train):\n"
     ]
    },
    {
     "data": {
      "text/html": [
       "<div>\n",
       "<style scoped>\n",
       "    .dataframe tbody tr th:only-of-type {\n",
       "        vertical-align: middle;\n",
       "    }\n",
       "\n",
       "    .dataframe tbody tr th {\n",
       "        vertical-align: top;\n",
       "    }\n",
       "\n",
       "    .dataframe thead th {\n",
       "        text-align: right;\n",
       "    }\n",
       "</style>\n",
       "<table border=\"1\" class=\"dataframe\">\n",
       "  <thead>\n",
       "    <tr style=\"text-align: right;\">\n",
       "      <th></th>\n",
       "      <th>Term</th>\n",
       "      <th>Coefficient</th>\n",
       "      <th>Std. Error</th>\n",
       "      <th>Z Score</th>\n",
       "    </tr>\n",
       "  </thead>\n",
       "  <tbody>\n",
       "    <tr>\n",
       "      <th>0</th>\n",
       "      <td>Intercept</td>\n",
       "      <td>0.43</td>\n",
       "      <td>1.55</td>\n",
       "      <td>0.28</td>\n",
       "    </tr>\n",
       "    <tr>\n",
       "      <th>1</th>\n",
       "      <td>lcavol</td>\n",
       "      <td>0.58</td>\n",
       "      <td>0.11</td>\n",
       "      <td>5.37</td>\n",
       "    </tr>\n",
       "    <tr>\n",
       "      <th>2</th>\n",
       "      <td>lweight</td>\n",
       "      <td>0.61</td>\n",
       "      <td>0.22</td>\n",
       "      <td>2.75</td>\n",
       "    </tr>\n",
       "    <tr>\n",
       "      <th>3</th>\n",
       "      <td>age</td>\n",
       "      <td>-0.02</td>\n",
       "      <td>0.01</td>\n",
       "      <td>-1.40</td>\n",
       "    </tr>\n",
       "    <tr>\n",
       "      <th>4</th>\n",
       "      <td>lbph</td>\n",
       "      <td>0.14</td>\n",
       "      <td>0.07</td>\n",
       "      <td>2.06</td>\n",
       "    </tr>\n",
       "    <tr>\n",
       "      <th>5</th>\n",
       "      <td>svi</td>\n",
       "      <td>0.74</td>\n",
       "      <td>0.30</td>\n",
       "      <td>2.47</td>\n",
       "    </tr>\n",
       "    <tr>\n",
       "      <th>6</th>\n",
       "      <td>lcp</td>\n",
       "      <td>-0.21</td>\n",
       "      <td>0.11</td>\n",
       "      <td>-1.87</td>\n",
       "    </tr>\n",
       "    <tr>\n",
       "      <th>7</th>\n",
       "      <td>gleason</td>\n",
       "      <td>-0.03</td>\n",
       "      <td>0.20</td>\n",
       "      <td>-0.15</td>\n",
       "    </tr>\n",
       "    <tr>\n",
       "      <th>8</th>\n",
       "      <td>pgg45</td>\n",
       "      <td>0.01</td>\n",
       "      <td>0.01</td>\n",
       "      <td>1.74</td>\n",
       "    </tr>\n",
       "  </tbody>\n",
       "</table>\n",
       "</div>"
      ],
      "text/plain": [
       "        Term  Coefficient  Std. Error  Z Score\n",
       "0  Intercept         0.43        1.55     0.28\n",
       "1     lcavol         0.58        0.11     5.37\n",
       "2    lweight         0.61        0.22     2.75\n",
       "3        age        -0.02        0.01    -1.40\n",
       "4       lbph         0.14        0.07     2.06\n",
       "5        svi         0.74        0.30     2.47\n",
       "6        lcp        -0.21        0.11    -1.87\n",
       "7    gleason        -0.03        0.20    -0.15\n",
       "8      pgg45         0.01        0.01     1.74"
      ]
     },
     "metadata": {},
     "output_type": "display_data"
    }
   ],
   "source": [
    "# 2) Tabla 3.2 con statsmodels\n",
    "import statsmodels.api as sm\n",
    "\n",
    "X_train_sm = sm.add_constant(X_train)   # agrega intercepto\n",
    "model_sm = sm.OLS(y_train, X_train_sm).fit()\n",
    "\n",
    "# Armar tabla como en el libro: coef, std err y \"Z\" (= coef / std err)\n",
    "tab32_sm = pd.DataFrame({\n",
    "    \"Term\": [\"Intercept\"] + predictors,\n",
    "    \"Coefficient\": np.round(model_sm.params, 2),\n",
    "    \"Std. Error\": np.round(model_sm.bse, 2),\n",
    "    \"Z Score\": np.round(model_sm.params / model_sm.bse, 2)\n",
    "})\n",
    "print(\"\\nTABLA 3.2 - OLS con statsmodels (train):\")\n",
    "display(tab32_sm)"
   ]
  },
  {
   "cell_type": "code",
   "execution_count": 29,
   "metadata": {},
   "outputs": [
    {
     "name": "stdout",
     "output_type": "stream",
     "text": [
      "\n",
      "TABLA 3.2 - OLS con numpy (train):\n"
     ]
    },
    {
     "data": {
      "text/html": [
       "<div>\n",
       "<style scoped>\n",
       "    .dataframe tbody tr th:only-of-type {\n",
       "        vertical-align: middle;\n",
       "    }\n",
       "\n",
       "    .dataframe tbody tr th {\n",
       "        vertical-align: top;\n",
       "    }\n",
       "\n",
       "    .dataframe thead th {\n",
       "        text-align: right;\n",
       "    }\n",
       "</style>\n",
       "<table border=\"1\" class=\"dataframe\">\n",
       "  <thead>\n",
       "    <tr style=\"text-align: right;\">\n",
       "      <th></th>\n",
       "      <th>Term</th>\n",
       "      <th>Coefficient</th>\n",
       "      <th>Std. Error</th>\n",
       "      <th>Z Score</th>\n",
       "    </tr>\n",
       "  </thead>\n",
       "  <tbody>\n",
       "    <tr>\n",
       "      <th>0</th>\n",
       "      <td>Intercept</td>\n",
       "      <td>0.43</td>\n",
       "      <td>1.55</td>\n",
       "      <td>0.28</td>\n",
       "    </tr>\n",
       "    <tr>\n",
       "      <th>1</th>\n",
       "      <td>lcavol</td>\n",
       "      <td>0.58</td>\n",
       "      <td>0.11</td>\n",
       "      <td>5.37</td>\n",
       "    </tr>\n",
       "    <tr>\n",
       "      <th>2</th>\n",
       "      <td>lweight</td>\n",
       "      <td>0.61</td>\n",
       "      <td>0.22</td>\n",
       "      <td>2.75</td>\n",
       "    </tr>\n",
       "    <tr>\n",
       "      <th>3</th>\n",
       "      <td>age</td>\n",
       "      <td>-0.02</td>\n",
       "      <td>0.01</td>\n",
       "      <td>-1.40</td>\n",
       "    </tr>\n",
       "    <tr>\n",
       "      <th>4</th>\n",
       "      <td>lbph</td>\n",
       "      <td>0.14</td>\n",
       "      <td>0.07</td>\n",
       "      <td>2.06</td>\n",
       "    </tr>\n",
       "    <tr>\n",
       "      <th>5</th>\n",
       "      <td>svi</td>\n",
       "      <td>0.74</td>\n",
       "      <td>0.30</td>\n",
       "      <td>2.47</td>\n",
       "    </tr>\n",
       "    <tr>\n",
       "      <th>6</th>\n",
       "      <td>lcp</td>\n",
       "      <td>-0.21</td>\n",
       "      <td>0.11</td>\n",
       "      <td>-1.87</td>\n",
       "    </tr>\n",
       "    <tr>\n",
       "      <th>7</th>\n",
       "      <td>gleason</td>\n",
       "      <td>-0.03</td>\n",
       "      <td>0.20</td>\n",
       "      <td>-0.15</td>\n",
       "    </tr>\n",
       "    <tr>\n",
       "      <th>8</th>\n",
       "      <td>pgg45</td>\n",
       "      <td>0.01</td>\n",
       "      <td>0.01</td>\n",
       "      <td>1.74</td>\n",
       "    </tr>\n",
       "  </tbody>\n",
       "</table>\n",
       "</div>"
      ],
      "text/plain": [
       "        Term  Coefficient  Std. Error  Z Score\n",
       "0  Intercept         0.43        1.55     0.28\n",
       "1     lcavol         0.58        0.11     5.37\n",
       "2    lweight         0.61        0.22     2.75\n",
       "3        age        -0.02        0.01    -1.40\n",
       "4       lbph         0.14        0.07     2.06\n",
       "5        svi         0.74        0.30     2.47\n",
       "6        lcp        -0.21        0.11    -1.87\n",
       "7    gleason        -0.03        0.20    -0.15\n",
       "8      pgg45         0.01        0.01     1.74"
      ]
     },
     "metadata": {},
     "output_type": "display_data"
    },
    {
     "name": "stdout",
     "output_type": "stream",
     "text": [
      "\n",
      "Comparación numpy vs statsmodels (coeficientes y SE):\n"
     ]
    },
    {
     "data": {
      "text/html": [
       "<div>\n",
       "<style scoped>\n",
       "    .dataframe tbody tr th:only-of-type {\n",
       "        vertical-align: middle;\n",
       "    }\n",
       "\n",
       "    .dataframe tbody tr th {\n",
       "        vertical-align: top;\n",
       "    }\n",
       "\n",
       "    .dataframe thead th {\n",
       "        text-align: right;\n",
       "    }\n",
       "</style>\n",
       "<table border=\"1\" class=\"dataframe\">\n",
       "  <thead>\n",
       "    <tr style=\"text-align: right;\">\n",
       "      <th></th>\n",
       "      <th>Term</th>\n",
       "      <th>Coefficient</th>\n",
       "      <th>Std. Error</th>\n",
       "      <th>Z Score</th>\n",
       "      <th>Coef (SM)</th>\n",
       "      <th>SE (SM)</th>\n",
       "    </tr>\n",
       "  </thead>\n",
       "  <tbody>\n",
       "    <tr>\n",
       "      <th>0</th>\n",
       "      <td>Intercept</td>\n",
       "      <td>0.43</td>\n",
       "      <td>1.55</td>\n",
       "      <td>0.28</td>\n",
       "      <td>0.43</td>\n",
       "      <td>1.55</td>\n",
       "    </tr>\n",
       "    <tr>\n",
       "      <th>1</th>\n",
       "      <td>lcavol</td>\n",
       "      <td>0.58</td>\n",
       "      <td>0.11</td>\n",
       "      <td>5.37</td>\n",
       "      <td>0.58</td>\n",
       "      <td>0.11</td>\n",
       "    </tr>\n",
       "    <tr>\n",
       "      <th>2</th>\n",
       "      <td>lweight</td>\n",
       "      <td>0.61</td>\n",
       "      <td>0.22</td>\n",
       "      <td>2.75</td>\n",
       "      <td>0.61</td>\n",
       "      <td>0.22</td>\n",
       "    </tr>\n",
       "    <tr>\n",
       "      <th>3</th>\n",
       "      <td>age</td>\n",
       "      <td>-0.02</td>\n",
       "      <td>0.01</td>\n",
       "      <td>-1.40</td>\n",
       "      <td>-0.02</td>\n",
       "      <td>0.01</td>\n",
       "    </tr>\n",
       "    <tr>\n",
       "      <th>4</th>\n",
       "      <td>lbph</td>\n",
       "      <td>0.14</td>\n",
       "      <td>0.07</td>\n",
       "      <td>2.06</td>\n",
       "      <td>0.14</td>\n",
       "      <td>0.07</td>\n",
       "    </tr>\n",
       "    <tr>\n",
       "      <th>5</th>\n",
       "      <td>svi</td>\n",
       "      <td>0.74</td>\n",
       "      <td>0.30</td>\n",
       "      <td>2.47</td>\n",
       "      <td>0.74</td>\n",
       "      <td>0.30</td>\n",
       "    </tr>\n",
       "    <tr>\n",
       "      <th>6</th>\n",
       "      <td>lcp</td>\n",
       "      <td>-0.21</td>\n",
       "      <td>0.11</td>\n",
       "      <td>-1.87</td>\n",
       "      <td>-0.21</td>\n",
       "      <td>0.11</td>\n",
       "    </tr>\n",
       "    <tr>\n",
       "      <th>7</th>\n",
       "      <td>gleason</td>\n",
       "      <td>-0.03</td>\n",
       "      <td>0.20</td>\n",
       "      <td>-0.15</td>\n",
       "      <td>-0.03</td>\n",
       "      <td>0.20</td>\n",
       "    </tr>\n",
       "    <tr>\n",
       "      <th>8</th>\n",
       "      <td>pgg45</td>\n",
       "      <td>0.01</td>\n",
       "      <td>0.01</td>\n",
       "      <td>1.74</td>\n",
       "      <td>0.01</td>\n",
       "      <td>0.01</td>\n",
       "    </tr>\n",
       "  </tbody>\n",
       "</table>\n",
       "</div>"
      ],
      "text/plain": [
       "        Term  Coefficient  Std. Error  Z Score  Coef (SM)  SE (SM)\n",
       "0  Intercept         0.43        1.55     0.28       0.43     1.55\n",
       "1     lcavol         0.58        0.11     5.37       0.58     0.11\n",
       "2    lweight         0.61        0.22     2.75       0.61     0.22\n",
       "3        age        -0.02        0.01    -1.40      -0.02     0.01\n",
       "4       lbph         0.14        0.07     2.06       0.14     0.07\n",
       "5        svi         0.74        0.30     2.47       0.74     0.30\n",
       "6        lcp        -0.21        0.11    -1.87      -0.21     0.11\n",
       "7    gleason        -0.03        0.20    -0.15      -0.03     0.20\n",
       "8      pgg45         0.01        0.01     1.74       0.01     0.01"
      ]
     },
     "metadata": {},
     "output_type": "display_data"
    }
   ],
   "source": [
    "# 3) Tabla 3.2 con OLS \"a mano\" (numpy)\n",
    "\n",
    "# Construimos X con intercepto\n",
    "Xb = np.c_[np.ones(n_train), X_train]\n",
    "# (X'X)^(-1) X'y\n",
    "XtX = Xb.T @ Xb\n",
    "XtX_inv = np.linalg.inv(XtX)\n",
    "beta_hat = XtX_inv @ (Xb.T @ y_train)\n",
    "\n",
    "# Estimador de sigma^2 = RSS / (n - p - 1)\n",
    "y_hat = Xb @ beta_hat\n",
    "rss = np.sum((y_train - y_hat)**2)\n",
    "sigma2_hat = rss / (n_train - (p + 1))\n",
    "se_beta = np.sqrt(np.diag(XtX_inv) * sigma2_hat)\n",
    "z_beta = beta_hat / se_beta\n",
    "\n",
    "tab32_np = pd.DataFrame({\n",
    "    \"Term\": [\"Intercept\"] + predictors,\n",
    "    \"Coefficient\": np.round(beta_hat, 2),\n",
    "    \"Std. Error\": np.round(se_beta, 2),\n",
    "    \"Z Score\": np.round(z_beta, 2)\n",
    "})\n",
    "print(\"\\nTABLA 3.2 - OLS con numpy (train):\")\n",
    "display(tab32_np)\n",
    "\n",
    "# Comparación rápida con statsmodels:\n",
    "comp = tab32_np.copy()\n",
    "comp[\"Coef (SM)\"] = np.round(tab32_sm[\"Coefficient\"].values, 2)\n",
    "comp[\"SE (SM)\"]   = np.round(tab32_sm[\"Std. Error\"].values, 2)\n",
    "print(\"\\nComparación numpy vs statsmodels (coeficientes y SE):\")\n",
    "display(comp)"
   ]
  },
  {
   "cell_type": "code",
   "execution_count": 30,
   "metadata": {},
   "outputs": [
    {
     "name": "stdout",
     "output_type": "stream",
     "text": [
      "\n",
      "F para H0: (coef de ['age', 'lcp', 'gleason', 'pgg45']) = 0   ->   F = 1.670  con gl=(4, 58)\n"
     ]
    }
   ],
   "source": [
    "# 4) Estadístico F: modelo completo vs reducido\n",
    "\n",
    "# Modelo completo (ya calculado arriba con numpy)\n",
    "p_full = p + 1\n",
    "rss_full = rss\n",
    "\n",
    "# Modelo reducido: sin age, lcp, gleason, pgg45\n",
    "drop_vars = ['age','lcp','gleason','pgg45']\n",
    "keep = ['lcavol','lweight','lbph','svi']\n",
    "Xr = train_df[keep].to_numpy()\n",
    "Xr_b = np.c_[np.ones(len(Xr)), Xr]\n",
    "\n",
    "beta_r = np.linalg.inv(Xr_b.T @ Xr_b) @ (Xr_b.T @ y_train)\n",
    "yhat_r = Xr_b @ beta_r\n",
    "rss_red = np.sum((y_train - yhat_r)**2)\n",
    "p_red = Xr_b.shape[1]\n",
    "\n",
    "# F parcial:\n",
    "num_df = p_full - p_red\n",
    "den_df = n_train - p_full\n",
    "F_stat = ((rss_red - rss_full) / num_df) / (rss_full / den_df)\n",
    "print(f\"\\nF para H0: (coef de {drop_vars}) = 0   ->   F = {F_stat:.3f}  \"\n",
    "      f\"con gl=({num_df}, {den_df})\")"
   ]
  },
  {
   "cell_type": "markdown",
   "metadata": {},
   "source": [
    "Este resultado compara el modelo completo vs el reducido, y muestra que la perdida de informacion es pequeña, es decir, las variables eliminadas, en conjunto, no aportan mucha información."
   ]
  },
  {
   "cell_type": "code",
   "execution_count": 31,
   "metadata": {},
   "outputs": [
    {
     "name": "stdout",
     "output_type": "stream",
     "text": [
      "\n",
      "MSE en test - Modelo completo: 0.521\n",
      "MSE en test - Benchmark (media de y_train): 1.057\n"
     ]
    },
    {
     "data": {
      "image/png": "[encoded data removed]",
      "text/plain": [
       "<Figure size 1100x400 with 2 Axes>"
      ]
     },
     "metadata": {},
     "output_type": "display_data"
    }
   ],
   "source": [
    "# 5) Error en evaluación + benchmark y gráficos\n",
    "# Predicción con modelo completo (statsmodels para variar)\n",
    "yhat_test_full = model_sm.predict(sm.add_constant(X_test))\n",
    "mse_full = np.mean((y_test - yhat_test_full)**2)\n",
    "print(f\"\\nMSE en test - Modelo completo: {mse_full:.3f}\")\n",
    "\n",
    "# Benchmark del libro: predecir con la media del y en TRAIN\n",
    "ybar_train = y_train.mean()\n",
    "yhat_test_bench = np.repeat(ybar_train, len(y_test))\n",
    "mse_bench = np.mean((y_test - yhat_test_bench)**2)\n",
    "print(f\"MSE en test - Benchmark (media de y_train): {mse_bench:.3f}\")\n",
    "\n",
    "# Gráficos y vs y_hat (test)\n",
    "fig, ax = plt.subplots(1,2, figsize=(11,4))\n",
    "ax[0].scatter(y_test, yhat_test_full, alpha=0.8)\n",
    "ax[0].plot([y_test.min(), y_test.max()],\n",
    "           [y_test.min(), y_test.max()], ls='--')\n",
    "ax[0].set_title(\"Test: y vs ŷ (modelo completo)\")\n",
    "ax[0].set_xlabel(\"y\")\n",
    "ax[0].set_ylabel(\"ŷ\")\n",
    "\n",
    "ax[1].scatter(y_test, yhat_test_bench, alpha=0.8)\n",
    "ax[1].plot([y_test.min(), y_test.max()],\n",
    "           [y_test.min(), y_test.max()], ls='--')\n",
    "ax[1].set_title(\"Test: y vs ŷ (benchmark)\")\n",
    "ax[1].set_xlabel(\"y\")\n",
    "ax[1].set_ylabel(\"ŷ\")\n",
    "plt.tight_layout()\n",
    "plt.show()"
   ]
  },
  {
   "cell_type": "markdown",
   "metadata": {},
   "source": [
    "# Ejercicio 4: resto de codigo"
   ]
  },
  {
   "cell_type": "code",
   "execution_count": 33,
   "metadata": {},
   "outputs": [
    {
     "name": "stdout",
     "output_type": "stream",
     "text": [
      "\n",
      "Coeficientes SGD (última iteración) en el espacio ESCALADO:\n",
      " Intercept:  2.452\n",
      "    lcavol:  0.712\n",
      "   lweight:  0.291\n",
      "       age: -0.142\n",
      "      lbph:  0.210\n",
      "       svi:  0.307\n",
      "       lcp: -0.287\n",
      "   gleason: -0.021\n",
      "     pgg45:  0.276\n"
     ]
    },
    {
     "data": {
      "image/png": "[encoded data removed]",
      "text/plain": [
       "<Figure size 1000x600 with 1 Axes>"
      ]
     },
     "metadata": {},
     "output_type": "display_data"
    },
    {
     "name": "stdout",
     "output_type": "stream",
     "text": [
      "MSE en test - SGD: 0.522\n"
     ]
    }
   ],
   "source": [
    "# SEGUNDO EJERCICIO: OLS con SGD (estocástico)\n",
    "\n",
    "# --- Escalado de predictores (recomendado para SGD)\n",
    "from sklearn.preprocessing import StandardScaler\n",
    "scaler = StandardScaler().fit(X_train)  # ajustar sólo con TRAIN\n",
    "Xs_train = scaler.transform(X_train)\n",
    "Xs_test  = scaler.transform(X_test)\n",
    "\n",
    "# Construimos matrices con intercepto\n",
    "Xs_train_b = np.c_[np.ones(n_train), Xs_train]\n",
    "Xs_test_b  = np.c_[np.ones(len(Xs_test)), Xs_test]\n",
    "\n",
    "# Referencia: coeficientes OLS en el espacio escalado\n",
    "# (Para comparar trayectorias; calculo OLS sobre Xs_train_b)\n",
    "beta_ref = np.linalg.inv(Xs_train_b.T @ Xs_train_b) @ (Xs_train_b.T @ y_train)\n",
    "\n",
    "def sgd_ols(X, y, eta=0.001, n_iter=10_000, seed=0, shuffle=True):\n",
    "    \"\"\"\n",
    "    SGD para mínimos cuadrados\n",
    "    X: matriz con intercepto (columna de 1s NO escalar)\n",
    "    y: vector objetivo\n",
    "    Devuelve: beta, historial de betas (iter x p)\n",
    "    \"\"\"\n",
    "    rng = np.random.default_rng(seed)\n",
    "    n, p = X.shape\n",
    "    beta = rng.normal(0, 1, size=p)  # init N(0,1) como se sugiere\n",
    "    hist = np.zeros((n_iter, p))\n",
    "\n",
    "    idx = np.arange(n)\n",
    "    for t in range(n_iter):\n",
    "        if shuffle:\n",
    "            rng.shuffle(idx)\n",
    "        for i in idx:\n",
    "            xi = X[i, :]\n",
    "            yi = y[i]\n",
    "            # gradiente de (1/2)(yi - xi^T beta)^2 = -(yi - xi^T beta) * xi\n",
    "            error = yi - xi @ beta\n",
    "            grad = - error * xi\n",
    "            beta = beta - eta * grad\n",
    "        hist[t, :] = beta\n",
    "    return beta, hist\n",
    "\n",
    "# Correr SGD con parámetros pedidos\n",
    "beta_sgd, hist = sgd_ols(Xs_train_b, y_train, eta=0.001, n_iter=10_000, seed=42)\n",
    "\n",
    "print(\"\\nCoeficientes SGD (última iteración) en el espacio ESCALADO:\")\n",
    "for name, val in zip([\"Intercept\"] + predictors, beta_sgd):\n",
    "    print(f\"{name:>10s}: {val: .3f}\")\n",
    "\n",
    "# Gráfico de la evolución de cada beta y líneas horizontales con OLS (esc.)\n",
    "plt.figure(figsize=(10,6))\n",
    "for j, name in enumerate([\"Intercept\"] + predictors):\n",
    "    plt.plot(hist[:, j], label=name, lw=1)\n",
    "    plt.hlines(beta_ref[j], xmin=0, xmax=len(hist)-1, linestyles='dashed')\n",
    "plt.title(\"Trayectoria de betas (SGD) y referencia OLS (líneas punteadas)\")\n",
    "plt.xlabel(\"Iteración\")\n",
    "plt.ylabel(\"Valor de β\")\n",
    "plt.legend(ncol=3, fontsize=9)\n",
    "plt.show()\n",
    "\n",
    "# Predicción en test con SGD\n",
    "yhat_test_sgd = Xs_test_b @ beta_sgd\n",
    "mse_sgd = np.mean((y_test - yhat_test_sgd)**2)\n",
    "print(f\"MSE en test - SGD: {mse_sgd:.3f}\")\n",
    "\n"
   ]
  },
  {
   "cell_type": "markdown",
   "metadata": {},
   "source": [
    "Ahora si dió parecido al libro, wtf??"
   ]
  },
  {
   "cell_type": "code",
   "execution_count": 34,
   "metadata": {},
   "outputs": [
    {
     "name": "stdout",
     "output_type": "stream",
     "text": [
      "\n",
      "Exploración de hiperparámetros (eta vs iteraciones):\n"
     ]
    },
    {
     "data": {
      "text/html": [
       "<div>\n",
       "<style scoped>\n",
       "    .dataframe tbody tr th:only-of-type {\n",
       "        vertical-align: middle;\n",
       "    }\n",
       "\n",
       "    .dataframe tbody tr th {\n",
       "        vertical-align: top;\n",
       "    }\n",
       "\n",
       "    .dataframe thead th {\n",
       "        text-align: right;\n",
       "    }\n",
       "</style>\n",
       "<table border=\"1\" class=\"dataframe\">\n",
       "  <thead>\n",
       "    <tr style=\"text-align: right;\">\n",
       "      <th></th>\n",
       "      <th>eta</th>\n",
       "      <th>n_iter</th>\n",
       "      <th>test_MSE</th>\n",
       "    </tr>\n",
       "  </thead>\n",
       "  <tbody>\n",
       "    <tr>\n",
       "      <th>0</th>\n",
       "      <td>0.0001</td>\n",
       "      <td>1000</td>\n",
       "      <td>0.447724</td>\n",
       "    </tr>\n",
       "    <tr>\n",
       "      <th>1</th>\n",
       "      <td>0.0001</td>\n",
       "      <td>5000</td>\n",
       "      <td>0.519568</td>\n",
       "    </tr>\n",
       "    <tr>\n",
       "      <th>2</th>\n",
       "      <td>0.0001</td>\n",
       "      <td>20000</td>\n",
       "      <td>0.521272</td>\n",
       "    </tr>\n",
       "    <tr>\n",
       "      <th>3</th>\n",
       "      <td>0.0010</td>\n",
       "      <td>1000</td>\n",
       "      <td>0.521933</td>\n",
       "    </tr>\n",
       "    <tr>\n",
       "      <th>4</th>\n",
       "      <td>0.0010</td>\n",
       "      <td>5000</td>\n",
       "      <td>0.521932</td>\n",
       "    </tr>\n",
       "    <tr>\n",
       "      <th>5</th>\n",
       "      <td>0.0010</td>\n",
       "      <td>20000</td>\n",
       "      <td>0.520918</td>\n",
       "    </tr>\n",
       "    <tr>\n",
       "      <th>6</th>\n",
       "      <td>0.0100</td>\n",
       "      <td>1000</td>\n",
       "      <td>0.548019</td>\n",
       "    </tr>\n",
       "    <tr>\n",
       "      <th>7</th>\n",
       "      <td>0.0100</td>\n",
       "      <td>5000</td>\n",
       "      <td>0.518382</td>\n",
       "    </tr>\n",
       "    <tr>\n",
       "      <th>8</th>\n",
       "      <td>0.0100</td>\n",
       "      <td>20000</td>\n",
       "      <td>0.523840</td>\n",
       "    </tr>\n",
       "  </tbody>\n",
       "</table>\n",
       "</div>"
      ],
      "text/plain": [
       "      eta  n_iter  test_MSE\n",
       "0  0.0001    1000  0.447724\n",
       "1  0.0001    5000  0.519568\n",
       "2  0.0001   20000  0.521272\n",
       "3  0.0010    1000  0.521933\n",
       "4  0.0010    5000  0.521932\n",
       "5  0.0010   20000  0.520918\n",
       "6  0.0100    1000  0.548019\n",
       "7  0.0100    5000  0.518382\n",
       "8  0.0100   20000  0.523840"
      ]
     },
     "metadata": {},
     "output_type": "display_data"
    },
    {
     "name": "stdout",
     "output_type": "stream",
     "text": [
      "\n",
      "Sugerencias para mejorar SGD en OLS:\n",
      "- Condición de parada: detener cuando ||grad|| < tol o cuando la mejora en el MSE\n",
      "  de validación sea menor a tol por K épocas.\n",
      "- Programas de aprendizaje (learning-rate schedules): eta_t = eta0 / (1 + a t)\n",
      "  o usar decaimiento exponencial. También usar warm restarts o cosine annealing.\n",
      "- Mini-batch SGD: actualizar con lotes de tamaño b (e.g., 16, 32, 64) para\n",
      "  reducir varianza del gradiente y aprovechar vectorización.\n",
      "- Momentum / Nesterov: suaviza y acelera la convergencia en valles curvos.\n",
      "- Regularización: L2 (Ridge) o L1 (Lasso) para controlar varianza y mejorar\n",
      "  generalización; en SGD se agrega el término de penalización en el gradiente.\n",
      "- Barajado y estratificación: reordenar ejemplos cada época; si hubiera fuerte\n",
      "  desbalance, mantener cierta estratificación.\n",
      "- Estandarización/normalización: (ya aplicada) imprescindible para estabilidad.\n",
      "\n"
     ]
    }
   ],
   "source": [
    "# ------------------------------------------\n",
    "# Experimentos: distintas tasas e iteraciones\n",
    "# ------------------------------------------\n",
    "def run_experiment(etas=(1e-4, 1e-3, 1e-2), iters=(1000, 5000, 20000)):\n",
    "    out = []\n",
    "    for eta in etas:\n",
    "        for it in iters:\n",
    "            _, _ = None, None\n",
    "            beta_tmp, _ = sgd_ols(Xs_train_b, y_train, eta=eta, n_iter=it, seed=0)\n",
    "            mse_tmp = np.mean((y_test - (Xs_test_b @ beta_tmp))**2)\n",
    "            out.append({\"eta\": eta, \"n_iter\": it, \"test_MSE\": mse_tmp})\n",
    "    return pd.DataFrame(out).sort_values([\"eta\",\"n_iter\"])\n",
    "\n",
    "exp = run_experiment()\n",
    "print(\"\\nExploración de hiperparámetros (eta vs iteraciones):\")\n",
    "display(exp)\n",
    "\n",
    "# ------------------------------------------\n",
    "# Ideas de mejora (comentario orientativo)\n",
    "# ------------------------------------------\n",
    "improvements = \"\"\"\n",
    "Sugerencias para mejorar SGD en OLS:\n",
    "- Condición de parada: detener cuando ||grad|| < tol o cuando la mejora en el MSE\n",
    "  de validación sea menor a tol por K épocas.\n",
    "- Programas de aprendizaje (learning-rate schedules): eta_t = eta0 / (1 + a t)\n",
    "  o usar decaimiento exponencial. También usar warm restarts o cosine annealing.\n",
    "- Mini-batch SGD: actualizar con lotes de tamaño b (e.g., 16, 32, 64) para\n",
    "  reducir varianza del gradiente y aprovechar vectorización.\n",
    "- Momentum / Nesterov: suaviza y acelera la convergencia en valles curvos.\n",
    "- Regularización: L2 (Ridge) o L1 (Lasso) para controlar varianza y mejorar\n",
    "  generalización; en SGD se agrega el término de penalización en el gradiente.\n",
    "- Barajado y estratificación: reordenar ejemplos cada época; si hubiera fuerte\n",
    "  desbalance, mantener cierta estratificación.\n",
    "- Estandarización/normalización: (ya aplicada) imprescindible para estabilidad.\n",
    "\"\"\"\n",
    "print(improvements)\n"
   ]
  }
 ],
 "metadata": {
  "kernelspec": {
   "display_name": ".venv",
   "language": "python",
   "name": "python3"
  },
  "language_info": {
   "codemirror_mode": {
    "name": "ipython",
    "version": 3
   },
   "file_extension": ".py",
   "mimetype": "text/x-python",
   "name": "python",
   "nbconvert_exporter": "python",
   "pygments_lexer": "ipython3",
   "version": "3.13.2"
  }
 },
 "nbformat": 4,
 "nbformat_minor": 2
}
