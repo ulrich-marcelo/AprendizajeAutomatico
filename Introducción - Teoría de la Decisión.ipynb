{
 "cells": [
  {
   "cell_type": "markdown",
   "metadata": {
    "slideshow": {
     "slide_type": "slide"
    }
   },
   "source": [
    "# Aprendizaje Automático\n",
    "#### Segundo cuatrimestre 2025\n",
    "\n",
    "## Introducción\n",
    "\n",
    "Vamos a volcar un montón de \"ingredientes\" al principio, algunos pequeños, algunos más grandes. Luego los vamos a ir cocinando y combinando para hacer un plato rico (CoPilot predijo estas oraciones y me gustaron).\n",
    "\n",
    "\n"
   ]
  },
  {
   "cell_type": "markdown",
   "metadata": {
    "slideshow": {
     "slide_type": "slide"
    }
   },
   "source": [
    "### Notación\n",
    "\n",
    "En general, vamos a (intentar) seguir la notación de *The Elements of Statistical Learning* de Hastie, Tibshirani y Friedman (2009). Esta notación consiste en:\n",
    "\n",
    "* $N$ suele ser el número de observaciones, y $p$ el número de variables de entrada.\n",
    "    * A veces $N$ puede aparecer en minusculas, $n$.\n",
    "\n",
    "* Una variable de entrada es $X$. Si $X$ es un vector, sus componentes son $X_j$. \n",
    "    * Las mayúsculas suelen referir al aspecto más simbólico o genérico de las variables.\n",
    "\n",
    "* Una variable de salida cuantitativa es $Y$, y una variable de salida cualitativa es $G$ (para grupo). Las variables de salida cuantitativas son números, y las cualitativas son categorías.\n",
    "    * $G$ toma valores en el set finito $ \\mathcal{G} = \\{1, 2, \\ldots, K\\}$, donde $K$ es el número de categorías o clases."
   ]
  },
  {
   "cell_type": "markdown",
   "metadata": {
    "slideshow": {
     "slide_type": "slide"
    }
   },
   "source": [
    "### Notación\n",
    "\n",
    "* $x_{i,j}$ es la observación de la variable $j$-ésima en la instancia $i$-ésima. En general, las observaciones se denotan con minúsculas (*variables en mayúscula, observaciones en minúscula*).\n",
    "\n",
    "#### Matrices\n",
    "\n",
    "* Una matriz suele representarse en mayúscula y en negrita. En particular, $x$ es una matriz de observaciones de variables de entrada, donde cada fila es una observación y cada columna es una variable. Por ejemplo, si tenemos $N$ observaciones y $p$ variables de entrada, entonces $\\textbf{X}$ es una matriz de $N \\times p$.\n",
    "\n",
    "$$ \\textbf{X} = \\begin{bmatrix} \n",
    "x_{1,1} & x_{1,2} & \\cdots & x_{1,p} \\\\\n",
    "x_{2,1} & x_{2,2} & \\cdots & x_{2,p} \\\\\n",
    "\\vdots & \\vdots & \\ddots & \\vdots \\\\\n",
    "x_{N,1} & x_{N,2} & \\cdots & x_{N,p}\n",
    "\\end{bmatrix} $$"
   ]
  },
  {
   "cell_type": "markdown",
   "metadata": {
    "slideshow": {
     "slide_type": "slide"
    }
   },
   "source": [
    "### Notación\n",
    "\n",
    "#### Vectores\n",
    "\n",
    "* En general, los vectores se escriben sin negrita, salvo cuando tienen $N$ componentes. De esta manera, podemos distinguir un vector de $p$ componentes para la instancia $x_i$ de un vector de $N$ componentes para las observaciones $\\textbf{x}_j$ de la variable $X_j$. \n",
    "\n",
    "Entonces: \n",
    "\n",
    "* La columna $j$-esima de $\\textbf{X}$ es el vector $\\textbf{x}_j$, que contiene todas las observaciones de la variable $j$-ésima. De esta manera, la matriz $\\textbf{X}$ puede escribirse como:\n",
    "\n",
    "$$ \\textbf{X} = \\begin{bmatrix}\n",
    "\\textbf{x}_1 & \\textbf{x}_2 & \\cdots & \\textbf{x}_p\n",
    "\\end{bmatrix} $$ \n",
    "\n",
    "cada uno con $N$ observaciones."
   ]
  },
  {
   "cell_type": "markdown",
   "metadata": {
    "slideshow": {
     "slide_type": "slide"
    }
   },
   "source": [
    "### Notación\n",
    "\n",
    "#### Vectores\n",
    "\n",
    "* La fila $i$-ésima de $\\textbf{X}$ es una observación de todas las variables de entrada para la instancia $i$. Como **todos los vectores se asumen vectores columna**, la fila $i$-ésima de $\\textbf{X}$ se denota como $x_i^T$, que es la transpuesta del vector columna $x_i$. De esta manera, la matriz $\\textbf{X}$ puede escribirse como:\n",
    "\n",
    "$$ \\textbf{X} = \\begin{bmatrix}\n",
    "x_1^T \\\\\n",
    "x_2^T \\\\\n",
    "\\vdots \\\\\n",
    "x_N^T\n",
    "\\end{bmatrix} $$\n",
    "\n",
    "\n"
   ]
  },
  {
   "cell_type": "markdown",
   "metadata": {
    "slideshow": {
     "slide_type": "slide"
    }
   },
   "source": [
    "### Aprendizaje Supervisado\n",
    "\n",
    "Supongamos que tenemos un conjunto de observaciones de pares $(x_i, y_i)$, que denotamos como $T = \\{(x_i, y_i)\\}_{i=1}^N$. Asumimos que hay una relación entre las variables de entrada $X_1, X_2, \\ldots, X_p$ y la variable de salida $Y$, que podemos expresar como una función desconocida $f$ más un término de error aleatorio $\\epsilon$:\n",
    "\n",
    "$$ Y = f(X) + \\epsilon $$\n",
    "\n",
    "$f$ representa la información *sistemática* que las variables $X$ proporcionan sobre la salida $Y$.\n",
    "\n",
    "Las predicciones que obtenemos de esta relación se denotan como $\\hat{Y}$. Si $Y$ toma valores en $\\mathbb{R}$, entonces $\\hat{Y}$ también tomará valores en $\\mathbb{R}$. Si $Y$ es una variable categórica, entonces $\\hat{Y}$ tomará valores en el conjunto de categorías $G$ asociado a $G$.\n"
   ]
  },
  {
   "cell_type": "markdown",
   "metadata": {
    "slideshow": {
     "slide_type": "subslide"
    }
   },
   "source": [
    "**En jerga *Machine Learning*:**\n",
    "\n",
    "Supongamos que $ Y = f(X) + \\epsilon$ es una suposición razonable. En el Aprendizaje Supervisado, intentamos aprender $f$ a través de *ejemplos*, es decir, del conjunto de entrenamiento $T = \\{(x_i, y_i)\\}_{i=1}^N$. Estos pares de observaciones son utilizados por el *algoritmo de aprendizaje* (que suele ser un programa de computadora) para generar una función aproximada $\\hat{f}$ que intenta replicar la relación entre $X$ e $y$. El algoritmo de aprendizaje tiene la capacidad de modificar la relación entre entradas y salidas a partir de las diferencias $y_i - \\hat{f}(x_i)$ (errores). A este proceso se lo conoce como *aprendizaje por ejemplos*. Al finalizar este proceso, se espera que la salida generada por el algoritmo de aprendizaje sea lo suficientemente cercana a la salida real para ser útil en la práctica para cualquier conjunto de entradas que se encuentre."
   ]
  },
  {
   "cell_type": "markdown",
   "metadata": {
    "slideshow": {
     "slide_type": "slide"
    }
   },
   "source": [
    "### Inferencia vs predicción\n",
    "\n",
    "#### **Predicción**\n",
    "\n",
    "Atributos ($\\textbf{X}$, inputs) fácilmente conseguibles, pero no así las etiquetas ($y$, outputs)\n",
    "        \n",
    "→ Usamos el modelo para obtener $\\hat{y}$\n",
    "\n",
    "\n",
    "**Ejemplo**\n",
    "* $\\textbf{X}$: variables fácilmente medibles en un análisis de sangre\n",
    "* $y$: embarazo o no "
   ]
  },
  {
   "cell_type": "markdown",
   "metadata": {
    "slideshow": {
     "slide_type": "fragment"
    }
   },
   "source": [
    "#### **Inferencia**\n",
    "Nos interesa entender la relación entre $\\textbf{X}$ e $y$, no necesariamente para hacer predicciones.\n",
    "\n",
    "¿Cuáles predictores - elementos de $\\textbf{X}$ - están asociados con $y$? ¿Cuál es esa relación?¿Es lineal?¿Es más compleja?\n",
    "\n",
    "**Ejemplo**\n",
    "* $\\textbf{X}$: variables medidas en un análisis de sangre y otros estudios clínicos.\n",
    "* $y$: diagnóstico de una enfermedad rara. \n"
   ]
  },
  {
   "cell_type": "markdown",
   "metadata": {
    "slideshow": {
     "slide_type": "slide"
    }
   },
   "source": [
    "## ¿Cómo podemos formalizar esto?"
   ]
  },
  {
   "cell_type": "markdown",
   "metadata": {
    "slideshow": {
     "slide_type": "slide"
    }
   },
   "source": [
    "### Reglas de la probabilidad\n",
    "**Caso discreto**\n",
    "\n",
    "#### Regla de la suma\n",
    "\n",
    "$$ p(X) = \\sum_{Y} p(X,Y)$$ \n",
    "\n",
    "#### Regla del producto\n",
    "\n",
    "$$ p(X,Y) = p(Y|X) p(X) $$"
   ]
  },
  {
   "cell_type": "markdown",
   "metadata": {
    "slideshow": {
     "slide_type": "fragment"
    }
   },
   "source": [
    "Que se pueden combinar para obtener el teorema de Bayes\n",
    "\n",
    "$$ P(Y|X) = \\frac{P(X|Y) P(Y)}{P(X)} $$\n",
    "\n",
    "donde el denominador se puede calcular como\n",
    "\n",
    "$$ P(X) = \\sum_{Y} P(X|Y) P(Y) $$"
   ]
  },
  {
   "cell_type": "markdown",
   "metadata": {
    "slideshow": {
     "slide_type": "slide"
    }
   },
   "source": [
    "### Reglas de la probabilidad\n",
    "**Caso continuo**\n",
    "\n",
    "$$ p(x \\in (a,b)) = \\int_{a}^{b} p(x) dx $$\n",
    "\n",
    "$$ \\int_{-\\infty}^{\\infty} p(x) dx = 1 $$\n",
    "\n",
    "\n",
    "#### Regla de la suma\n",
    "\n",
    "$$ p(x) = \\int p(x,y) dy $$ \n",
    "\n",
    "#### Regla del producto\n",
    "\n",
    "$$ p(x,y) = p(y|x) p(x) $$"
   ]
  },
  {
   "cell_type": "markdown",
   "metadata": {
    "slideshow": {
     "slide_type": "slide"
    }
   },
   "source": [
    "### Enfoque bayesiano\n",
    "\n",
    "* Algunos (muchos) eventos son difíciles de interpretar en términos de frecuencias.\n",
    "* En estos casos, las nociones de incerteza son dífiles de interpretar en términos de frecuencias, sino que es más natural interpretarlas en términos de creencias.\n",
    "\n",
    "#### Ejemplo - Ajuste de una curva\n",
    "\n",
    "$$ p(\\textbf{w}|\\mathcal{D}) = \\frac{p(\\mathcal{D}|\\textbf{w}) p(\\textbf{w})}{p(\\mathcal{D})} $$\n",
    "\n",
    "donde $\\mathcal{D}$ es el conjunto de datos observados y $\\textbf{w}$ es el conjunto de parámetros del modelo. El denominador puede ser calculado como $p(\\mathcal{D}) = \\int p(\\mathcal{D}|\\textbf{w}) p(\\textbf{w}) d\\textbf{w}$.\n",
    "\n",
    "* En el enfoque frecuentista, los parámetros son fijos y los datos son variables aleatorias. Las barras de error surgen de considerar la distribución de los datos.\n",
    "* En el enfoque bayesiano, los datos son fijos y los parámetros son los que tienen una distribución. Las barras de error surgen de considerar la distribución de los parámetros."
   ]
  },
  {
   "cell_type": "markdown",
   "metadata": {
    "slideshow": {
     "slide_type": "slide"
    }
   },
   "source": [
    "### Aprendizaje Supervisado\n",
    "\n",
    "Dado un conjunto de datos observados $\\{(x_1,y_1),(x_2,y_2),\\ldots,(x_N,y_N)\\}$, el objetivo es aprender una relación entre $X$ e $Y$ que permita predecir $y$ ($\\hat{y}$) dado un nuevo valor observado de $x$.\n",
    "\n",
    "* En problemas de regresión, $Y$ toma valores continuos.\n",
    "* En problemas de clasificación, $Y$ representará etiquetas de clases y, para ser consistentes con la notación, deberíamos llamarlo $G$.\n",
    "    * $\\hat{G}$ toma valores en el mismo conjunto de clases $\\mathcal{G}$ asociado a $G$.\n",
    "\n",
    "\n",
    "El problema de inferencia formulado de manera más general consiste en determinar la probabilidad conjunta $p(X,Y)$, ya que es la descripción probabilística más completa que podemos hacer.\n",
    "\n",
    "¿Por qué? Si contamos con la probabilidad conjunta $p(X,Y)$, problema resuelto, ya que con el teorema de Bayes podemos hacer predicciones:\n",
    "\n",
    "$$ p(Y = y|X = x) = \\frac{p(X = x,Y = y)}{p(X = x)} $$"
   ]
  },
  {
   "cell_type": "markdown",
   "metadata": {
    "slideshow": {
     "slide_type": "slide"
    }
   },
   "source": [
    "## Veamos algunos ejemplos y tratemos de bajar esto a algo más comprensible."
   ]
  },
  {
   "cell_type": "markdown",
   "metadata": {
    "slideshow": {
     "slide_type": "slide"
    }
   },
   "source": [
    "### Aprendizaje Supervisado\n",
    "\n",
    "#### **Ejemplo 1**\n",
    "\n",
    "Supongamos que queremos predecir si una persona aprobará una materia ($Y = 1$) o no ($Y = 0$) usando dos atributos:\n",
    "* $X_1$: horas de estudio ($X_1 \\in [0, 4]$)\n",
    "* $X_2$: asistió o no a clases ($X_2 \\in \\{0, 1\\}$)\n",
    "\n",
    "En total, hay $5 \\times 2 = 10$ combinaciones posibles de los atributos, junto con dos posibles valores para la variable de salida. En la siguiente tabla, están las probabilidades conjuntas de los atributos y la variable de salida.\n",
    "\n",
    "<img src=\"Figuras/Tabla ejemplo p conjunta.png\" alt=\"Figura 1\" width=\"800\" />\n",
    "\n",
    "\n",
    "<!-- | $X_2$ $\\backslash$ $X_1$ | 0                               | 1                               | 2                               | 3                               | 4                               |\n",
    "|:------------------------:|:-------------------------------:|:-------------------------------:|:-------------------------------:|:-------------------------------:|:-------------------------------:|\n",
    "|           0              | $P(0,0,0)=0.09$<br>$P(0,0,1)=0.01$ | $P(1,0,0)=0.07$<br>$P(1,0,1)=0.03$ | $P(2,0,0)=0.06$<br>$P(2,0,1)=0.04$ | $P(3,0,0)=0.05$<br>$P(3,0,1)=0.05$ | $P(4,0,0)=0.01$<br>$P(4,0,1)=0.09$ |\n",
    "|           1              | $P(0,1,0)=0.08$<br>$P(0,1,1)=0.02$ | $P(1,1,0)=0.04$<br>$P(1,1,1)=0.06$ | $P(2,1,0)=0.03$<br>$P(2,1,1)=0.07$ | $P(3,1,0)=0.02$<br>$P(3,1,1)=0.08$ | $P(4,1,0)=0.005$<br>$P(4,1,1)=0.095$ | -->\n"
   ]
  },
  {
   "cell_type": "markdown",
   "metadata": {
    "slideshow": {
     "slide_type": "slide"
    }
   },
   "source": [
    "### Aprendizaje Supervisado\n",
    "\n",
    "#### **Ejemplo 1**\n",
    "\n",
    "<img src=\"Figuras/Tabla ejemplo p conjunta.png\" alt=\"Figura 1\" width=\"800\" />\n",
    "\n",
    "A partir de esta tabla, podemos calcular las probabilidades condicionesales de aprobar la materia ($Y = 1$) dado las horas de estudio ($X_1$) y si asistió a clases ($X_2$) como:\n",
    "\n",
    "$$ P(Y = 1 | X_1 = x_1, X_2 = x_2) = \\frac{P(X_1 = x_1, X_2 = x_2, Y = 1)}{P(X_1 = x_1, X_2 = x_2)} $$\n",
    "\n",
    "y su complemento:\n",
    "\n",
    "$$ P(Y = 0 | X_1 = x_1, X_2 = x_2) = \\frac{P(X_1 = x_1, X_2 = x_2, Y = 0)}{P(X_1 = x_1, X_2 = x_2)} $$\n",
    "\n",
    "En este caso, y por construcción para facilitar las cuentas, todas las combinaciones de los atributos - cada celda - son igualmente probables, $P(X_1 = x_1, X_2 = x_2) = \\frac{1}{10}$.\n",
    "\n"
   ]
  },
  {
   "cell_type": "markdown",
   "metadata": {
    "slideshow": {
     "slide_type": "slide"
    }
   },
   "source": [
    "### Aprendizaje Supervisado\n",
    "\n",
    "#### **Ejemplo 1**\n",
    "\n",
    "<img src=\"Figuras/Tabla ejemplo p conjunta.png\" alt=\"Figura 1\" width=\"800\" />\n",
    "\n",
    "Que, condicionada, da:\n",
    "\n",
    "<img src=\"Figuras/Tabla ejemplo p condicional.png\" alt=\"Figura 1\" width=\"800\" />\n",
    "\n",
    "<!-- | $X_2$ $\\backslash$ $X_1$ |  0                         |  1                         |  2                         |  3                         |  4                         |\n",
    "|:------------------------:|:--------------------------:|:--------------------------:|:--------------------------:|:--------------------------:|:--------------------------:|\n",
    "|           0              | $P(Y=0)=0.9$<br>$P(Y=1)=0.1$ | $P(Y=0)=0.7$<br>$P(Y=1)=0.3$ | $P(Y=0)=0.6$<br>$P(Y=1)=0.4$ | $P(Y=0)=0.5$<br>$P(Y=1)=0.5$ | $P(Y=0)=0.1$<br>$P(Y=1)=0.9$ |\n",
    "|           1              | $P(Y=0)=0.8$<br>$P(Y=1)=0.2$ | $P(Y=0)=0.4$<br>$P(Y=1)=0.6$ | $P(Y=0)=0.3$<br>$P(Y=1)=0.7$ | $P(Y=0)=0.2$<br>$P(Y=1)=0.8$ | $P(Y=0)=0.05$<br>$P(Y=1)=0.95$ | -->\n",
    "\n",
    "\n",
    "Con esta tabla, entonces, podemos calcular la probabilidad de que una persona apruebe la materia dado sus horas de estudio y si asistió a clases.\n"
   ]
  },
  {
   "cell_type": "markdown",
   "metadata": {
    "slideshow": {
     "slide_type": "slide"
    }
   },
   "source": [
    "### Aprendizaje Supervisado\n",
    "\n",
    "#### **Ejemplo 1**\n",
    "\n",
    "<img src=\"Figuras/Tabla ejemplo p condicional.png\" alt=\"Figura 1\" width=\"800\" />\n",
    "\n",
    "\n",
    "Con esta tabla, entonces, podemos calcular la probabilidad de que una persona apruebe la materia dado sus horas de estudio y si asistió a clases.\n",
    "\n",
    "**Importante**: en ningún momento estamos considerando cómo obtener la tabla original. Pero, una vez obtenida, es una descripción probabilística completa de la relación entre los atributos y la variable de salida.\n",
    "\n",
    "¿Cuál les parece más cómoda para trabajar?¿Cuál es más fácil de *medir*?\n"
   ]
  },
  {
   "cell_type": "markdown",
   "metadata": {
    "slideshow": {
     "slide_type": "slide"
    }
   },
   "source": [
    "### Aprendizaje Supervisado\n",
    "\n",
    "#### **Ejemplo 2**\n",
    "\n",
    "*Vamos al código*"
   ]
  },
  {
   "cell_type": "code",
   "execution_count": 2,
   "metadata": {},
   "outputs": [],
   "source": [
    "import numpy as np\n",
    "import pandas as pd\n",
    "\n",
    "import matplotlib.pyplot as plt\n",
    "import seaborn as sns\n"
   ]
  },
  {
   "cell_type": "code",
   "execution_count": 3,
   "metadata": {},
   "outputs": [
    {
     "data": {
      "text/html": [
       "<div>\n",
       "<style scoped>\n",
       "    .dataframe tbody tr th:only-of-type {\n",
       "        vertical-align: middle;\n",
       "    }\n",
       "\n",
       "    .dataframe tbody tr th {\n",
       "        vertical-align: top;\n",
       "    }\n",
       "\n",
       "    .dataframe thead th {\n",
       "        text-align: right;\n",
       "    }\n",
       "</style>\n",
       "<table border=\"1\" class=\"dataframe\">\n",
       "  <thead>\n",
       "    <tr style=\"text-align: right;\">\n",
       "      <th></th>\n",
       "      <th>X1</th>\n",
       "      <th>X2</th>\n",
       "      <th>Y</th>\n",
       "    </tr>\n",
       "  </thead>\n",
       "  <tbody>\n",
       "    <tr>\n",
       "      <th>0</th>\n",
       "      <td>0</td>\n",
       "      <td>1</td>\n",
       "      <td>1</td>\n",
       "    </tr>\n",
       "    <tr>\n",
       "      <th>1</th>\n",
       "      <td>2</td>\n",
       "      <td>1</td>\n",
       "      <td>1</td>\n",
       "    </tr>\n",
       "    <tr>\n",
       "      <th>2</th>\n",
       "      <td>4</td>\n",
       "      <td>1</td>\n",
       "      <td>0</td>\n",
       "    </tr>\n",
       "    <tr>\n",
       "      <th>3</th>\n",
       "      <td>1</td>\n",
       "      <td>1</td>\n",
       "      <td>0</td>\n",
       "    </tr>\n",
       "    <tr>\n",
       "      <th>4</th>\n",
       "      <td>0</td>\n",
       "      <td>1</td>\n",
       "      <td>1</td>\n",
       "    </tr>\n",
       "    <tr>\n",
       "      <th>5</th>\n",
       "      <td>0</td>\n",
       "      <td>0</td>\n",
       "      <td>0</td>\n",
       "    </tr>\n",
       "    <tr>\n",
       "      <th>6</th>\n",
       "      <td>2</td>\n",
       "      <td>0</td>\n",
       "      <td>0</td>\n",
       "    </tr>\n",
       "    <tr>\n",
       "      <th>7</th>\n",
       "      <td>1</td>\n",
       "      <td>0</td>\n",
       "      <td>0</td>\n",
       "    </tr>\n",
       "    <tr>\n",
       "      <th>8</th>\n",
       "      <td>3</td>\n",
       "      <td>1</td>\n",
       "      <td>1</td>\n",
       "    </tr>\n",
       "    <tr>\n",
       "      <th>9</th>\n",
       "      <td>3</td>\n",
       "      <td>0</td>\n",
       "      <td>0</td>\n",
       "    </tr>\n",
       "    <tr>\n",
       "      <th>10</th>\n",
       "      <td>4</td>\n",
       "      <td>1</td>\n",
       "      <td>0</td>\n",
       "    </tr>\n",
       "    <tr>\n",
       "      <th>11</th>\n",
       "      <td>3</td>\n",
       "      <td>0</td>\n",
       "      <td>1</td>\n",
       "    </tr>\n",
       "    <tr>\n",
       "      <th>12</th>\n",
       "      <td>3</td>\n",
       "      <td>1</td>\n",
       "      <td>0</td>\n",
       "    </tr>\n",
       "    <tr>\n",
       "      <th>13</th>\n",
       "      <td>3</td>\n",
       "      <td>1</td>\n",
       "      <td>0</td>\n",
       "    </tr>\n",
       "    <tr>\n",
       "      <th>14</th>\n",
       "      <td>3</td>\n",
       "      <td>0</td>\n",
       "      <td>1</td>\n",
       "    </tr>\n",
       "    <tr>\n",
       "      <th>15</th>\n",
       "      <td>4</td>\n",
       "      <td>1</td>\n",
       "      <td>0</td>\n",
       "    </tr>\n",
       "    <tr>\n",
       "      <th>16</th>\n",
       "      <td>2</td>\n",
       "      <td>1</td>\n",
       "      <td>1</td>\n",
       "    </tr>\n",
       "    <tr>\n",
       "      <th>17</th>\n",
       "      <td>1</td>\n",
       "      <td>1</td>\n",
       "      <td>1</td>\n",
       "    </tr>\n",
       "    <tr>\n",
       "      <th>18</th>\n",
       "      <td>2</td>\n",
       "      <td>1</td>\n",
       "      <td>1</td>\n",
       "    </tr>\n",
       "    <tr>\n",
       "      <th>19</th>\n",
       "      <td>3</td>\n",
       "      <td>1</td>\n",
       "      <td>0</td>\n",
       "    </tr>\n",
       "  </tbody>\n",
       "</table>\n",
       "</div>"
      ],
      "text/plain": [
       "    X1  X2  Y\n",
       "0    0   1  1\n",
       "1    2   1  1\n",
       "2    4   1  0\n",
       "3    1   1  0\n",
       "4    0   1  1\n",
       "5    0   0  0\n",
       "6    2   0  0\n",
       "7    1   0  0\n",
       "8    3   1  1\n",
       "9    3   0  0\n",
       "10   4   1  0\n",
       "11   3   0  1\n",
       "12   3   1  0\n",
       "13   3   1  0\n",
       "14   3   0  1\n",
       "15   4   1  0\n",
       "16   2   1  1\n",
       "17   1   1  1\n",
       "18   2   1  1\n",
       "19   3   1  0"
      ]
     },
     "execution_count": 3,
     "metadata": {},
     "output_type": "execute_result"
    }
   ],
   "source": [
    "X1_vals = np.arange(0, 5)       # 0,1,2,3,4\n",
    "X2_vals = np.array([0, 1])      # 0,1\n",
    "n_per_cell = 100                # Observaciones por celda\n",
    "\n",
    "# Definimos p_{ij} = P(Y=1 | X1=i, X2=j)\n",
    "# Cada fila i suma a 1, garantizando P(Y=1|X1=i)=0.5\n",
    "p_table = {\n",
    "    # X1: {X2: p(Y=1)}\n",
    "    0: {0: 0.0, 1: 1.0},   # pura: siempre Y=0 si X2=0, siempre Y=1 si X2=1\n",
    "    1: {0: 0.5, 1: 0.5},   # pura inversa\n",
    "    2: {0: 0.3, 1: 0.7},   # mixta\n",
    "    3: {0: 0.7, 1: 0.3},   # mixta\n",
    "    4: {0: 1.0, 1: 0.0},   # mixta\n",
    "}\n",
    "\n",
    "# Generación de datos\n",
    "rows = []\n",
    "for i in X1_vals:\n",
    "    for j in X2_vals:\n",
    "        p1 = p_table[i][j]\n",
    "        # Simulamos n_per_cell observaciones con probabilidad p1 de Y=1\n",
    "        y_samples = np.random.binomial(1, p1, size=n_per_cell)\n",
    "        for y in y_samples:\n",
    "            rows.append({'X1': i, 'X2': j, 'Y': y})\n",
    "\n",
    "df = pd.DataFrame(rows).sample(frac=1).reset_index(drop=True)\n",
    "df.head(20)"
   ]
  },
  {
   "cell_type": "code",
   "execution_count": 4,
   "metadata": {},
   "outputs": [
    {
     "data": {
      "text/plain": [
       "<seaborn.axisgrid.JointGrid at 0x1d303ee0800>"
      ]
     },
     "execution_count": 4,
     "metadata": {},
     "output_type": "execute_result"
    },
    {
     "data": {
      "image/png": "[encoded data removed]",
      "text/plain": [
       "<Figure size 600x600 with 3 Axes>"
      ]
     },
     "metadata": {},
     "output_type": "display_data"
    }
   ],
   "source": [
    "g = sns.JointGrid(data=df, x=\"X1\", y=\"X2\", hue=\"Y\")\n",
    "g.plot(sns.scatterplot, sns.histplot)"
   ]
  },
  {
   "cell_type": "code",
   "execution_count": 5,
   "metadata": {},
   "outputs": [
    {
     "data": {
      "text/plain": [
       "<Axes: xlabel='X1_jitter', ylabel='X2_jitter'>"
      ]
     },
     "execution_count": 5,
     "metadata": {},
     "output_type": "execute_result"
    },
    {
     "data": {
      "image/png": "[encoded data removed]",
      "text/plain": [
       "<Figure size 640x480 with 1 Axes>"
      ]
     },
     "metadata": {},
     "output_type": "display_data"
    }
   ],
   "source": [
    "df['X1_jitter'] = df['X1'] + np.random.normal(0, 0.1, size=len(df))  # Añadir ruido a X1\n",
    "df['X2_jitter'] = df['X2'] + np.random.normal(0, 0.1, size=len(df))  # Añadir ruido a X2\n",
    "\n",
    "\n",
    "sns.scatterplot(data=df, x='X1_jitter', y='X2_jitter', hue='Y', alpha = 0.5)"
   ]
  },
  {
   "cell_type": "code",
   "execution_count": 6,
   "metadata": {},
   "outputs": [
    {
     "name": "stdout",
     "output_type": "stream",
     "text": [
      "\n",
      "P(Y=1 | X1, X2):\n",
      " X1    0     1     2     3    4\n",
      "X2                            \n",
      "0   0.0  0.48  0.29  0.72  1.0\n",
      "1   1.0  0.45  0.66  0.25  0.0\n"
     ]
    }
   ],
   "source": [
    "p_1 = df.pivot_table(index='X1', columns='X2', values='Y', aggfunc='mean')\n",
    "print(\"\\nP(Y=1 | X1, X2):\\n\", p_1.T)"
   ]
  },
  {
   "cell_type": "code",
   "execution_count": 7,
   "metadata": {},
   "outputs": [
    {
     "name": "stdout",
     "output_type": "stream",
     "text": [
      "P(Y=1 | X1):\n",
      " X1\n",
      "0    0.500\n",
      "1    0.465\n",
      "2    0.475\n",
      "3    0.485\n",
      "4    0.500\n",
      "Name: Y, dtype: float64\n",
      "\n",
      "P(Y=1 | X2):\n",
      " X2\n",
      "0    0.498\n",
      "1    0.472\n",
      "Name: Y, dtype: float64\n"
     ]
    }
   ],
   "source": [
    "# Márgenes\n",
    "condicional_X1 = df.groupby('X1')['Y'].mean()   # debería ser ~0.2 para cada X1\n",
    "condicional_X2 = df.groupby('X2')['Y'].mean()   # debería ser ~0.5 para cada X2\n",
    "\n",
    "print(\"P(Y=1 | X1):\\n\", condicional_X1)\n",
    "print(\"\\nP(Y=1 | X2):\\n\", condicional_X2)"
   ]
  },
  {
   "cell_type": "markdown",
   "metadata": {
    "slideshow": {
     "slide_type": "slide"
    }
   },
   "source": [
    "### Aprendizaje Supervisado\n",
    "\n",
    "#### **Ejemplo 3**\n",
    "\n",
    "Clasificación, analítico --> Lo dejamos para cuando veamos Análisis Discriminante."
   ]
  },
  {
   "cell_type": "markdown",
   "metadata": {
    "slideshow": {
     "slide_type": "slide"
    }
   },
   "source": [
    "### Aprendizaje Supervisado\n",
    "\n",
    "#### **Ejemplo 4 - Regresión**\n",
    "\n",
    "Supongamos:\n",
    "* Dos atributos predictivos continuos $X_1, X_2$, normales, independientes entre sí o no.\n",
    "* Un target continuo $Y$, que depende linealmente de los atributos, junto con ruido gaussiano.\n",
    "\n",
    "Entonces, \n",
    "\n",
    "$$\n",
    "\\begin{aligned}\n",
    "p(x_1, x_2, y) =\\ & \n",
    "\\frac{1}{2\\pi |\\Sigma_X|^{1/2}}\n",
    "\\exp\\left(\n",
    "-\\frac{1}{2}\n",
    "\\left(\n",
    "\\begin{pmatrix} x_1 \\\\ x_2 \\end{pmatrix}\n",
    "- \\boldsymbol{\\mu}_X\n",
    "\\right)^\\top\n",
    "\\Sigma_X^{-1}\n",
    "\\left(\n",
    "\\begin{pmatrix} x_1 \\\\ x_2 \\end{pmatrix}\n",
    "- \\boldsymbol{\\mu}_X\n",
    "\\right)\n",
    "\\right) \\\\\n",
    "& \\times\n",
    "\\frac{1}{\\sqrt{2\\pi}\\, \\sigma}\n",
    "\\exp\\left(\n",
    "-\\frac{1}{2\\sigma^2}\n",
    "\\left[ y - (\\beta_0 + \\beta_1 x_1 + \\beta_2 x_2) \\right]^2\n",
    "\\right)\n",
    "\\end{aligned}\n",
    "$$\n",
    "\n",
    "es una descripción completa del problema."
   ]
  },
  {
   "cell_type": "markdown",
   "metadata": {
    "slideshow": {
     "slide_type": "slide"
    }
   },
   "source": [
    "### Aprendizaje Supervisado\n",
    "\n",
    "#### **Ejemplo 4 - Regresión**\n",
    "\n",
    "Supongamos:\n",
    "* Dos atributos predictivos continuos $X_1, X_2$, normales, independientes entre sí o no.\n",
    "* Un target continuo $Y$, que depende linealmente de los atributos, junto con ruido gaussiano.\n",
    "\n",
    "Entonces, \n",
    "\n",
    "$$ (X_1, X_2) \\sim \\mathcal{N}(\\boldsymbol{\\mu}_X, \\Sigma_X) $$\n",
    "\n",
    "$$ Y = \\beta_0 + \\beta_1 X_1 + \\beta_2 X_2 + \\epsilon $$\n",
    "\n",
    "donde:\n",
    "* $\\epsilon \\sim \\mathcal{N}(0, \\sigma^2)$\n",
    "* $\\mathcal{N}(\\cdot;\\ \\mu,\\, \\Sigma)$ es la densidad normal (en 2D para los predictores, 1D para $\\epsilon$)\n",
    "* $\\boldsymbol{\\mu}_X$ y $\\Sigma_X$ son media y covarianza de $(X_1, X_2)$"
   ]
  },
  {
   "cell_type": "markdown",
   "metadata": {
    "slideshow": {
     "slide_type": "slide"
    }
   },
   "source": [
    "### Aprendizaje Supervisado\n",
    "\n",
    "#### **Ejemplo 4 - Regresión**\n",
    "\n",
    "La distribución conjunta de los predictores y la variable de salida es:\n",
    "\n",
    "$$ p(x_1, x_2, y) = p(y|x_1, x_2) p(x_1, x_2) $$\n",
    "\n",
    "donde:\n",
    "\n",
    "* $p(x_1, x_2)$ es la densidad marginal de los predictores. \n",
    "* $p(y|x_1, x_2)$ es la densidad condicional de $y$ dado los predictores.\n",
    "\n",
    "La densidad condicional de $Y$ es:\n",
    "\n",
    "$$ Y | X_1 = x_1, X_2 = x_2 \\sim \\mathcal{N}(\\beta_0 + \\beta_1 x_1 + \\beta_2 x_2, \\sigma^2) $$\n",
    "\n",
    "Entonces,\n",
    "\n",
    "$$ p(y|x_1, x_2) = \\frac{1}{\\sqrt{2\\pi} \\sigma} \\exp\\left(-\\frac{(y - (\\beta_0 + \\beta_1 x_1 + \\beta_2 x_2))^2}{2\\sigma^2}\\right) $$"
   ]
  },
  {
   "cell_type": "markdown",
   "metadata": {
    "slideshow": {
     "slide_type": "slide"
    }
   },
   "source": [
    "### Aprendizaje Supervisado\n",
    "\n",
    "#### **Ejemplo 4 - Regresión**\n",
    "\n",
    "Teniendo en cuenta que \n",
    "$$ (X_1, X_2) \\sim \\mathcal{N}(\\boldsymbol{\\mu}_X, \\Sigma_X) $$\n",
    "\n",
    "y\n",
    "\n",
    "$$ p(y|x_1, x_2) = \\frac{1}{\\sqrt{2\\pi \\sigma^2}} \\exp\\left(-\\frac{(y - (\\beta_0 + \\beta_1 x_1 + \\beta_2 x_2))^2}{2\\sigma^2}\\right) $$\n",
    "\n",
    "la distribución conjunta es:\n",
    "\n",
    "$\n",
    "p(x_1, x_2, y) = \\mathcal{N}\\left(\n",
    "\\begin{pmatrix}\n",
    "x_1 \\\\ x_2\n",
    "\\end{pmatrix};\n",
    "\\ \\boldsymbol{\\mu}_X,\\, \\Sigma_X\n",
    "\\right)\n",
    "\\times\n",
    "\\mathcal{N}\\left(\n",
    "y;\\ \\beta_0 + \\beta_1 x_1 + \\beta_2 x_2,\\ \\sigma^2\n",
    "\\right)\n",
    "$\n",
    "\n",
    "que es lo mismo con lo que empezamos."
   ]
  },
  {
   "cell_type": "markdown",
   "metadata": {},
   "source": [
    "### PENDIENTES: BAJAR EL EJEMPLO DE REGRESIÓN A TIERRA"
   ]
  },
  {
   "cell_type": "markdown",
   "metadata": {
    "slideshow": {
     "slide_type": "slide"
    }
   },
   "source": [
    "## ¿Problema resuelto? En todos los ejemplos, obtuvimos una distribución de probabilidad, no una *predicción*."
   ]
  },
  {
   "cell_type": "markdown",
   "metadata": {
    "slideshow": {
     "slide_type": "slide"
    }
   },
   "source": [
    "### Teoría de la decisión\n",
    "\n",
    "$$ p(Y|X) = \\frac{p(X,Y)}{p(X)} $$\n",
    "\n",
    "Para hacer una predicción, necesitamos una *decisión* que nos diga qué valor $y$ predecir dado $x$.\n",
    "\n",
    "La rama de la estadística que se ocupa de la toma de decisiones es la *teoría de la decisión*.\n",
    "\n",
    "En particular, nos gustaría que esta decisión sea *óptima*, es decir, que minimice algún tipo de error o pérdida esperada."
   ]
  },
  {
   "cell_type": "markdown",
   "metadata": {
    "slideshow": {
     "slide_type": "slide"
    }
   },
   "source": [
    "### Teoría de la decisión *a la Bishop*\n",
    "\n",
    "#### **Clasificación**\n",
    "\n",
    "1. Para problemas de clasificación, podemos minimizar la probabilidad de error (que es equivalente a maximizar la probabilidad de acierto).\n",
    "\n",
    "1. Necesitamos una regla que asigne cada vector de entrada $X = x$ a una de las clases en $\\mathcal{G}$. Esa regla va a dividir el espacio de entrada en regiones de decisión, una para cada clase, donde cada punto en la región de decisión $R_k$ se asigna a la clase $K$-ésima. \n",
    "\n",
    "1. Las fronteras entre las regiones de decisión se llaman fronteras de decisión. Cabe destacar que cada región de decisión no tiene por qué ser contigua, sino que puede estar compuesta por varias regiones disjuntas."
   ]
  },
  {
   "cell_type": "markdown",
   "metadata": {
    "slideshow": {
     "slide_type": "slide"
    }
   },
   "source": [
    "### Teoría de la decisión *a la Bishop*\n",
    "\n",
    "<img src=\"Figuras/Error de clasificación 2d.png\" alt=\"Figura 1\" width=\"400\" />"
   ]
  },
  {
   "cell_type": "code",
   "execution_count": null,
   "metadata": {},
   "outputs": [],
   "source": [
    "import numpy as np\n",
    "import matplotlib.pyplot as plt\n",
    "from ipywidgets import interact, FloatSlider\n",
    "\n",
    "# Parámetros de las dos clases\n",
    "mu1, sigma1 = 0.0, 1.0\n",
    "mu2, sigma2 = 2.0, 1.0\n",
    "# Priori (iguales aquí)\n",
    "pi1, pi2 = 0.5, 0.5\n",
    "\n",
    "# Eje x\n",
    "x = np.linspace(-4, 6, 2000)\n",
    "# Densidades\n",
    "p1 = pi1 * (1/(np.sqrt(2*np.pi)*sigma1)) * np.exp(-0.5*((x-mu1)/sigma1)**2)\n",
    "p2 = pi2 * (1/(np.sqrt(2*np.pi)*sigma2)) * np.exp(-0.5*((x-mu2)/sigma2)**2)\n",
    "\n",
    "def plot_decision(threshold):\n",
    "    plt.figure(figsize=(8, 4))\n",
    "    plt.plot(x, p1, label=r'$p(x\\,|\\,C_1)$', color='C0')\n",
    "    plt.plot(x, p2, label=r'$p(x\\,|\\,C_2)$', color='C1')\n",
    "    \n",
    "    # Regiones de decisión\n",
    "    # R1: x < threshold → predicción C1\n",
    "    # R2: x >= threshold → predicción C2\n",
    "    plt.fill_between(x, 0, p1, where=(x < threshold), color='C0', alpha=0.3)\n",
    "    plt.fill_between(x, 0, p2, where=(x >= threshold), color='C1', alpha=0.3)\n",
    "    \n",
    "    # Zonas de error\n",
    "    # - puntos de C1 en R2 (x>=threshold): área bajo p1 para x>=threshold\n",
    "    # - puntos de C2 en R1 (x<threshold): área bajo p2 para x<threshold\n",
    "    err1 = np.trapezoid(p1[x >= threshold], x[x >= threshold])\n",
    "    err2 = np.trapezoid(p2[x < threshold],  x[x < threshold])\n",
    "    \n",
    "    # Sombreo de errores\n",
    "    plt.fill_between(x, 0, p1, where=(x >= threshold), color='red',   alpha=0.5, label='Error C1→C2')\n",
    "    plt.fill_between(x, 0, p2, where=(x < threshold),  color='orange', alpha=0.5, label='Error C2→C1')\n",
    "    \n",
    "    # Línea vertical del umbral\n",
    "    plt.axvline(threshold, color='k', linestyle='--')\n",
    "    plt.text(threshold, max(p1.max(), p2.max())*0.9,\n",
    "             fr'$\\hat x={threshold:.2f}$', ha='right')\n",
    "    \n",
    "    plt.title(f'Error total = {err1+err2:.3f}  (C1→C2: {err1:.3f},  C2→C1: {err2:.3f})')\n",
    "    plt.xlabel('$x$')\n",
    "    plt.ylabel('Densidad conjunta $p(x,C_k)$')\n",
    "    plt.legend(loc='upper left')\n",
    "    plt.ylim(0, max(p1.max(), p2.max())*1.1)\n",
    "    plt.show()\n",
    "\n",
    "# Deslizador interactivo\n",
    "interact(plot_decision,\n",
    "         threshold=FloatSlider(min=-2, max=5, step=0.05, value=1.0,\n",
    "                               description='Umbral')); \n"
   ]
  },
  {
   "cell_type": "markdown",
   "metadata": {
    "slideshow": {
     "slide_type": "slide"
    }
   },
   "source": [
    "### Teoría de la decisión *a la Bishop*\n",
    "\n",
    "Supongamos que solamente hay dos clases, $C_1$ y $C_2$, cada una con una región de decisión $\\mathcal{R}_1$ y $\\mathcal{R}_2$, respectivamente. Entonces, la probabilida de cometer un error es:\n",
    "\n",
    "$$p(error) = p(x \\in \\mathcal{R}_1, y = C_2) + p(x \\in \\mathcal{R}_2, y = C_1)$$\n",
    "\n",
    "$$p(error) = \\int_{\\mathcal{R}_1} p(x,C_2) dx + \\int_{\\mathcal{R}_2} p(x,C_1) dx$$\n",
    "\n",
    "Considerando que $p(x,C_k) = p(C_k|x) p(x)$, podemos reescribir la expresión anterior como:\n",
    "\n",
    "$$p(error) = \\int_{\\mathcal{R}_1} p(C_2|x) p(x) dx + \\int_{\\mathcal{R}_2} p(C_1|x) p(x) dx$$\n",
    "\n",
    "Como $p(x)$ es común a ambos términos, podemos reescribir este resultado diciendo que la probabilidad mínima de cometer un error se obtiene si cada valor de $x$ se asigna a la clase para la cual la probabilidad posterior $p(C_k|x)$ es mayor, que es la famosa **regla de Bayes**:\n",
    "\n",
    "$$\\hat{G} = \\arg\\max_{C_k} p(C_k|x)$$"
   ]
  },
  {
   "cell_type": "markdown",
   "metadata": {
    "slideshow": {
     "slide_type": "slide"
    }
   },
   "source": [
    "### Teoría de la decisión - Clasificación\n",
    "\n",
    "Otra forma de verlo, con una notación más cargada pero un poco más general.\n",
    "\n",
    "* La variable de salida de una variable categórica $G$ que toma valores en $\\mathcal{G}$.\n",
    "* El estimador es $\\hat{G}(X)$, que también toma valores en $\\mathcal{G}$.\n",
    "* La función de pérdida es una matriz $\\textbf{L}$ de tamaño $K \\times K$, que es cero en la diagonal y no negativa en el resto. Es decir, $L(k, \\ell)$ es el costo de clasificar un elemento de la clase $\\mathcal{G}_k$ como $\\mathcal{G}_\\ell$.\n",
    "* En general, se usa la zero-one loss, que es cero si $k = \\ell$ y uno en caso contrario.\n",
    "\n",
    "Entonces, el error de predicción esperado es:\n",
    "\n",
    "$$ EPE = E[L(G,\\hat{G}(X))]$$"
   ]
  },
  {
   "cell_type": "markdown",
   "metadata": {
    "slideshow": {
     "slide_type": "slide"
    }
   },
   "source": [
    "### Teoría de la decisión - Clasificación\n",
    "\n",
    "El error de predicción esperado es:\n",
    "\n",
    "$$ EPE = E[L(G,\\hat{G}(X))]$$\n",
    "\n",
    "¿Sobre qué está tomada la esperanza? Sobre la distribución conjunta de $X$ y $G$, es decir, $p(G,X)$. Entonces, podemos escribirlo como:\n",
    "\n",
    "$$ EPE = \\int_{X}\\sum_{k=1}^{K} L(\\mathcal{G}_k,\\hat{G}(X)) p(\\mathcal{G}_k | X) p(X) dX  $$\n",
    "\n",
    "que lo van a encontrar de manera parecida a \n",
    "\n",
    "$$ EPE = E_{X}[\\sum_{k=1}^{K} L(\\mathcal{G}_k,\\hat{G}(X)) p(\\mathcal{G}_k | X)]  $$\n",
    "\n",
    "¿Se parece a lo que vimos antes (Bishop)?\n"
   ]
  },
  {
   "cell_type": "markdown",
   "metadata": {
    "slideshow": {
     "slide_type": "slide"
    }
   },
   "source": [
    "### Teoría de la decisión - Clasificación\n",
    "\n",
    "$$ EPE = E_{X}[\\sum_{k=1}^{K} L(\\mathcal{G}_k,\\hat{G}(X)) p(\\mathcal{G}_k | X)]  $$\n",
    "\n",
    "Notar que el operador $E_X[\\cdot]$ es un promedio ponderado por $p(X)$ para todos los posibles valores de $X$.\n",
    "\n",
    "Para minimizar la EPE, **basta con minimizarla puntualmente (es decir, para cada punto $X$ fijo).**"
   ]
  },
  {
   "cell_type": "markdown",
   "metadata": {
    "slideshow": {
     "slide_type": "subslide"
    }
   },
   "source": [
    "**¿Por qué se puede minimizar punto a punto?**\n",
    "\n",
    "El error promedio esperado es una **suma (o integral) sobre todos los posibles valores de $X$** de un término que depende solo de $X$\n",
    "\n",
    "$$ EPE = \\int_{X} \\Biggr[ \\sum_{k=1}^{K} L(\\mathcal{G}_k,\\hat{G}(X)) p(\\mathcal{G}_k | X) \\Biggr] p(X) dX  $$\n",
    "\n",
    "Notar que el término dentro del corchete el **error esperado local** para ese valor de $X$ y **solo depende de la decisión que tomemos para ese valor de $X$**.\n",
    "\n",
    "Así, el EPE es la suma (integral) de términos independientes, uno para cada $X$, y **el clasificador $\\hat{G}(X)$ puede ser elegido de manera independente para cada valor de $X$** (las decisiones de un valor de $X$ no deben afectar otro valor de $X$).\n",
    "\n",
    "Entonces, **para minimizar el EPE global, alcanza con minimizar el término dentro del corchete para cada  valor $X$ por separado (minimización local)**."
   ]
  },
  {
   "cell_type": "markdown",
   "metadata": {
    "slideshow": {
     "slide_type": "slide"
    }
   },
   "source": [
    "### Teoría de la decisión - Clasificación\n",
    "\n",
    "$$ EPE = E_{X}[\\sum_{k=1}^{K} L(\\mathcal{G}_k,\\hat{G}(X)) p(\\mathcal{G}_k | X)]  $$\n",
    "\n",
    "Para minimizar la EPE, basta con minimizarla puntualmente (es decir, para cada punto $x$ fijo), lo que nos lleva a la regla de Bayes:\n",
    "\n",
    "$$ \\hat{G}(x) = \\arg\\min_{g \\in \\mathcal{G} } (\\sum_{k=1}^{K} L(\\mathcal{G}_k,g) p(\\mathcal{G}_k | X = x)) $$\n",
    "\n",
    "que es general para cualquier $L$."
   ]
  },
  {
   "cell_type": "markdown",
   "metadata": {
    "slideshow": {
     "slide_type": "fragment"
    }
   },
   "source": [
    "En el caso particular de la zero-one loss, la regla de Bayes se reduce a:\n",
    "\n",
    "$$ \\hat{G}(x) = \\arg\\min_{g \\in \\mathcal{G} } [1 - p(g | X = x)] $$\n",
    "\n",
    "o, de manera equivalente\n",
    "\n",
    "$$ \\hat{G}(x) = \\mathcal{G}_k \\text{ si } p(\\mathcal{G}_k | X = x) = \\max_{g \\in \\mathcal{G}} p(g | X = x) $$\n",
    "\n",
    "Que se interpreta como que la clase predicha es aquella que tiene la mayor probabilidad condicional sobre la distribución - discreta - $P(G|X)$."
   ]
  },
  {
   "cell_type": "markdown",
   "metadata": {
    "slideshow": {
     "slide_type": "slide"
    }
   },
   "source": [
    "### Aprendizaje Supervisado - Clasificación\n",
    "\n",
    "$$ p(G|X) = \\frac{p(X,G)}{p(X)} $$\n",
    "\n",
    "Ya sabemos cómo usar $p(X,G)$ para tomas decisiones sobre $G$ dado $X$. Sin embargo, tenemos un problema aún más complicado:\n",
    "\n",
    "Determinar $p(X,G)$ suele ser muy difícil."
   ]
  },
  {
   "cell_type": "markdown",
   "metadata": {
    "slideshow": {
     "slide_type": "fragment"
    }
   },
   "source": [
    "¿Por qué? \n",
    "\n",
    "Porque $X$ suele ser un vector de alta dimensión, y estimar distribuciones en alta dimensión es muy difícil."
   ]
  },
  {
   "cell_type": "markdown",
   "metadata": {
    "slideshow": {
     "slide_type": "fragment"
    }
   },
   "source": [
    "¿La solución? Modelar."
   ]
  },
  {
   "cell_type": "markdown",
   "metadata": {
    "slideshow": {
     "slide_type": "slide"
    }
   },
   "source": [
    "### Aprendizaje Supervisado - Clasificación\n",
    "\n",
    "#### Inferencia y decisión\n",
    "\n",
    "La resolución de un problema de clasificación requiere de dos instancias: la *inferencia* y la *decisión*.\n",
    "* En la *inferencia*, usamos datos de entrenamiento para estimar la distribución conjunta $p(X,G)$ o la distribución condicional $p(G|X)$.\n",
    "* En la *decisión*, usamos la distribución estimada para hacer predicciones sobre la clase $G$ dado un nuevo valor de $X$, ya sea usando la regla de Bayes o no.\n",
    "\n",
    "Podemos identificar tres aproximaciones distintas para un problema de clasificación, ordenados de manera decreciente según su complejidad."
   ]
  },
  {
   "cell_type": "markdown",
   "metadata": {
    "slideshow": {
     "slide_type": "subslide"
    }
   },
   "source": [
    "### Aprendizaje Supervisado - Clasificación\n",
    "\n",
    "1. **Modelos generativos**: \n",
    "    1. Modelar la distribución conjunta $p(X,G)$. \n",
    "    1. Luego, calcular la distribución condicional $p(G|X)$ normalizando. \n",
    "    1. Finalmente, usar teoría de la decisión para hacer predicciones.\n",
    "\n",
    "    Se llaman generativos porque, al modelar la distribución conjunta, es posible generar datos sintéticos en el espacio de entrada.\n",
    "\n",
    "1. **Modelos discrimativos**:\n",
    "    1. Modelar directamente la distribución condicional $p(G|X)$.\n",
    "    1. Usar teoría de la decisión para hacer predicciones\n",
    "    \n",
    "1. **Función discriminante**: directamente aprender una función de decisión que mapea $X$ a $G$. No modelan ninguna distribución de probabilidad. De esta forma, combinan la inferencia y la decisión en un solo paso."
   ]
  },
  {
   "cell_type": "markdown",
   "metadata": {
    "slideshow": {
     "slide_type": "slide"
    }
   },
   "source": [
    "### Teoría de la decisión - Regresión\n",
    "\n",
    "De manera parecida a como hicimos en clasificación, debemos decidir qué valor predecir de $Y$ en un problema de regresión.\n",
    "\n",
    "* $X \\in \\mathbb{R}^p$ es un vector de atributos predictivos.\n",
    "* $Y \\in \\mathbb{R}$ es un valor continuo a predecir.\n",
    "* $P(X,Y)$ es su distribución conjunta.\n",
    "\n",
    "Buscamos una función $f(X)$ que prediga $Y$ dado $X$. La función de pérdida típica es la pérdida cuadrática, $L(Y,f(X)) = (Y - f(X))^2$. Entonces:\n",
    "\n",
    "$$ EPE(f) = E[L(Y,f(X))] = E[(Y - f(X))^2] $$\n",
    "\n",
    "Que, de manera muy parecida, podemos reescribir como\n",
    "\n",
    "$$ EPE(f) = \\int (y - f(x))^2 p(x,y) dy dx  $$\n",
    "\n",
    "Condicionando, \n",
    "\n",
    "$$ EPE(f) = \\int (y - f(x))^2 p(y|x) p(x) dy dx $$\n",
    "\n",
    "$$ EPE(f) = E_{X}E_{Y|X} ([Y - f(X)]^2|X) $$"
   ]
  },
  {
   "cell_type": "markdown",
   "metadata": {
    "slideshow": {
     "slide_type": "slide"
    }
   },
   "source": [
    "### Teoría de la decisión - Regresión\n",
    "\n",
    "$$ EPE(f) = \\int (y - f(x))^2 p(y|x) p(x) dy dx $$\n",
    "\n",
    "$$ EPE(f) = E_{X}E_{Y|X} ([Y - f(X)]^2|X) $$\n",
    "\n",
    "Nuevamente, basta con minimizar punto a punto, por lo que buscamos un $c$ tal que:\n",
    "\n",
    "$$ f(x) = \\arg\\min_{c \\in \\mathbb{R}} E_{Y|X} ([Y - c]^2|X) $$\n",
    "\n",
    "Cuya solución es\n",
    "\n",
    "$$f(x) = E(Y|X = x) $$\n",
    "\n",
    "que se conoce como la función de regresión.\n",
    "\n",
    "¿Qué quiere decir? La mejor predicción de $Y$ en un punto $X = x$ es la media condicional (cuando es medido por el error cuadrático)."
   ]
  },
  {
   "cell_type": "markdown",
   "metadata": {
    "slideshow": {
     "slide_type": "slide"
    }
   },
   "source": [
    "### Aprendizaje Supervisado - Regresión\n",
    "\n",
    "Así como en clasificación, hay tres formas de abordar un problema de regresión, ordenadas de manera decreciente según su complejidad.\n",
    "\n",
    "1. Modelar la distribución conjunta $p(X,Y)$. Luego, calculan la distribución condicional $p(Y|X)$ normalizando. Finalmente, obtener su promedio condicional, que es la predicción óptima bajo el error cuadrático medio.\n",
    "\n",
    "1. Modelar la distribución condicional $p(Y|X)$. Luego, obtener su promedio condicional, que es la predicción óptima bajo el error cuadrático medio.\n",
    "\n",
    "1. Directamente modelar $E[Y|X]$, que es la predicción óptima bajo el error cuadrático medio.\n"
   ]
  },
  {
   "cell_type": "markdown",
   "metadata": {},
   "source": []
  }
 ],
 "metadata": {
  "kernelspec": {
   "display_name": ".venv (3.12.6)",
   "language": "python",
   "name": "python3"
  },
  "language_info": {
   "codemirror_mode": {
    "name": "ipython",
    "version": 3
   },
   "file_extension": ".py",
   "mimetype": "text/x-python",
   "name": "python",
   "nbconvert_exporter": "python",
   "pygments_lexer": "ipython3",
   "version": "3.12.6"
  }
 },
 "nbformat": 4,
 "nbformat_minor": 2
}
